{
 "cells": [
  {
   "cell_type": "code",
   "execution_count": 1,
   "metadata": {},
   "outputs": [],
   "source": [
    "import numpy as np\n",
    "import matplotlib.pyplot as plt\n",
    "import random"
   ]
  },
  {
   "cell_type": "code",
   "execution_count": 2,
   "metadata": {},
   "outputs": [],
   "source": [
    "X_train = np.loadtxt('train_X.csv', delimiter=',').T\n",
    "Y_train = np.loadtxt('train_Y.csv', delimiter=',').T\n",
    "\n",
    "X_test = np.loadtxt('test_X.csv', delimiter=',').T\n",
    "Y_test = np.loadtxt('test_Y.csv', delimiter=',').T\n",
    "\n",
    "X_train = X_train/255.0\n",
    "X_test  = X_test/255.0\n"
   ]
  },
  {
   "cell_type": "code",
   "execution_count": 3,
   "metadata": {},
   "outputs": [
    {
     "name": "stdout",
     "output_type": "stream",
     "text": [
      "(784, 1000)\n",
      "(10, 1000)\n",
      "(784, 350)\n",
      "(10, 350)\n"
     ]
    }
   ],
   "source": [
    "print(X_train.shape)\n",
    "print(Y_train.shape)\n",
    "print(X_test.shape)\n",
    "print(Y_test.shape)"
   ]
  },
  {
   "cell_type": "code",
   "execution_count": 4,
   "metadata": {},
   "outputs": [
    {
     "name": "stdout",
     "output_type": "stream",
     "text": [
      "974\n"
     ]
    },
    {
     "data": {
      "image/png": "[encoded data removed]",
      "text/plain": [
       "<Figure size 640x480 with 1 Axes>"
      ]
     },
     "metadata": {},
     "output_type": "display_data"
    }
   ],
   "source": [
    "index = random.randint(0,X_train.shape[1])\n",
    "print(index)\n",
    "plt.imshow(X_train[:, index].reshape(28,28), cmap = 'gray')\n",
    "plt.show()"
   ]
  },
  {
   "cell_type": "code",
   "execution_count": 5,
   "metadata": {},
   "outputs": [],
   "source": [
    "def softmax(x):\n",
    "    expX = np.exp(x)\n",
    "    return expX/np.sum(expX, axis = 0)\n",
    "\n",
    "def deriv_tanh(x):  \n",
    "    return (1 - np.power(np.tanh(x), 2))\n",
    "\n",
    "def relu(x):\n",
    "    return np.maximum(x, 0)\n",
    "\n",
    "def deriv_relu(x):\n",
    "    return np.array(x > 0, dtype = np.float32)"
   ]
  },
  {
   "cell_type": "code",
   "execution_count": 6,
   "metadata": {},
   "outputs": [],
   "source": [
    "def initialize_weights_and_biases(num_input_nodes, num_hidden_nodes, num_output_nodes):\n",
    "    \n",
    "    W1 = np.random.randn(num_hidden_nodes, num_input_nodes)*0.001\n",
    "    B1 = np.zeros((num_hidden_nodes, 1))\n",
    "\n",
    "    W2 = np.random.randn(num_output_nodes, num_hidden_nodes)*0.001\n",
    "    B2 = np.zeros((num_output_nodes, 1))\n",
    "\n",
    "    weights_and_biases = {\n",
    "        'W1': W1, \n",
    "        'B1': B1, \n",
    "        'W2': W2, \n",
    "        'B2': B2\n",
    "    }\n",
    "\n",
    "    return weights_and_biases"
   ]
  },
  {
   "cell_type": "code",
   "execution_count": 7,
   "metadata": {},
   "outputs": [],
   "source": [
    "def forward_propagation(input, weights_and_biases):\n",
    "    x = input\n",
    "    W1 = weights_and_biases['W1']\n",
    "    B1 = weights_and_biases['B1']\n",
    "    W2 = weights_and_biases['W2']\n",
    "    B2 = weights_and_biases['B2']\n",
    "\n",
    "    # Dot product operator in python is '@'\n",
    "    Z1 = W1 @ x + B1\n",
    "    A1 = relu(Z1)\n",
    "\n",
    "    Z2 = W2 @ A1 + B2\n",
    "    A2 = softmax(Z2)\n",
    "\n",
    "    prediction_dict = {\n",
    "        'Z1': Z1, \n",
    "        'A1': A1,\n",
    "        'Z2': Z2,\n",
    "        'A2': A2,\n",
    "    }\n",
    "\n",
    "    return prediction_dict"
   ]
  },
  {
   "cell_type": "code",
   "execution_count": 8,
   "metadata": {},
   "outputs": [],
   "source": [
    "def cost_function(A2, y):\n",
    "    # Batch size: m\n",
    "    m = y.shape[1]\n",
    "\n",
    "    cost = -(1/m)*np.sum(y*np.log(A2))\n",
    "\n",
    "    return cost"
   ]
  },
  {
   "cell_type": "code",
   "execution_count": 9,
   "metadata": {},
   "outputs": [],
   "source": [
    "def back_propagation(x, y, weights_and_biases, prediction_dict):\n",
    "    W2 = weights_and_biases['W2']\n",
    "\n",
    "    A1 = prediction_dict['A1']\n",
    "    Z1 = prediction_dict['Z1']\n",
    "    A2 = prediction_dict['A2']\n",
    "\n",
    "    m = x.shape[1]\n",
    "\n",
    "    dZ2 = A2 - y\n",
    "    dW2 = (1/m)*(dZ2 @ A1.T)\n",
    "    dB2 = (1/m)*np.sum(dZ2, axis=1, keepdims=True)\n",
    "\n",
    "    dZ1 = W2.T @ dZ2 * deriv_relu(Z1)\n",
    "    dW1 = (1/m)*dZ1 @ x.T\n",
    "    dB1 = (1/m)*np.sum(dZ1, axis=1, keepdims=True)\n",
    "\n",
    "    gradients_dict = {\n",
    "        'dW1': dW1,\n",
    "        'dB1': dB1,\n",
    "        'dW2': dW2,\n",
    "        'dB2': dB2,\n",
    "    }\n",
    "\n",
    "    return gradients_dict\n",
    "    "
   ]
  },
  {
   "cell_type": "code",
   "execution_count": 10,
   "metadata": {},
   "outputs": [],
   "source": [
    "def update_weights_and_biases(weights_and_biases, gradients_dict, learning_rate):\n",
    "    W1 = weights_and_biases['W1']\n",
    "    B1 = weights_and_biases['B1']\n",
    "    W2 = weights_and_biases['W2']\n",
    "    B2 = weights_and_biases['B2']\n",
    "\n",
    "    dW1 = gradients_dict['dW1']\n",
    "    dB1 = gradients_dict['dB1']\n",
    "    dW2 = gradients_dict['dW2']\n",
    "    dB2 = gradients_dict['dB2']\n",
    "\n",
    "    a = learning_rate\n",
    "\n",
    "    W1 = W1 - a*dW1\n",
    "    B1 = B1 - a*dB1\n",
    "    W2 = W2 - a*dW2\n",
    "    B2 = B2 - a*dB2\n",
    "\n",
    "    weights_and_biases = {\n",
    "    'W1': W1, \n",
    "    'B1': B1, \n",
    "    'W2': W2, \n",
    "    'B2': B2\n",
    "    }\n",
    "\n",
    "    return weights_and_biases\n",
    "\n"
   ]
  },
  {
   "cell_type": "code",
   "execution_count": 11,
   "metadata": {},
   "outputs": [],
   "source": [
    "def train_model(x_train, y_train, num_hidden_nodes, learning_rate, epochs, batch_size):\n",
    "    \n",
    "    num_input_nodes = x_train.shape[0]\n",
    "    num_output_nodes = y_train.shape[0]\n",
    "    \n",
    "    weights_and_biases = initialize_weights_and_biases(num_input_nodes, num_hidden_nodes, num_output_nodes)\n",
    "\n",
    "    costList = []\n",
    "\n",
    "    x_train = x_train.reshape(x_train.shape[0], batch_size, -1)\n",
    "    y_train = y_train.reshape(y_train.shape[0], batch_size, -1)\n",
    "    print(x_train.shape)\n",
    "\n",
    "    iterations = x_train.shape[2]\n",
    "\n",
    "    for j in range(epochs):\n",
    "        for i in range(iterations):\n",
    "            x = x_train[:,:,i]\n",
    "            y = y_train[:,:,i]\n",
    "\n",
    "            prediction = forward_propagation(x, weights_and_biases)\n",
    "            A2 = prediction['A2']\n",
    "\n",
    "            cost = cost_function(A2, y)\n",
    "\n",
    "            gradients = back_propagation(x, y, weights_and_biases, prediction)\n",
    "\n",
    "            weights_and_biases = update_weights_and_biases(weights_and_biases, gradients, learning_rate)\n",
    "\n",
    "\n",
    "            if i % 1000 == 0:\n",
    "                print('i =', i, 'cost =', cost)\n",
    "                costList.append(cost)\n",
    "\n",
    "    return weights_and_biases, costList\n"
   ]
  },
  {
   "cell_type": "code",
   "execution_count": 12,
   "metadata": {},
   "outputs": [
    {
     "name": "stdout",
     "output_type": "stream",
     "text": [
      "(784, 1, 1000)\n"
     ]
    },
    {
     "name": "stdout",
     "output_type": "stream",
     "text": [
      "i = 0 cost = 2.302530099808182\n",
      "i = 0 cost = 10.834891880979665\n",
      "i = 0 cost = 6.847228589801896\n",
      "i = 0 cost = 4.693037163025665\n",
      "i = 0 cost = 3.8890041080391353\n",
      "i = 0 cost = 2.909956800147048\n",
      "i = 0 cost = 1.9761931791648921\n",
      "i = 0 cost = 1.2223915686741542\n",
      "i = 0 cost = 0.6096587101618434\n",
      "i = 0 cost = 0.33749376481566923\n",
      "i = 0 cost = 0.3311244480669713\n",
      "i = 0 cost = 0.3315469423337076\n",
      "i = 0 cost = 0.1711496213016306\n",
      "i = 0 cost = 0.30704809690152346\n",
      "i = 0 cost = 0.05232623608288158\n",
      "i = 0 cost = 0.022998506951327588\n",
      "i = 0 cost = 0.07898005544745793\n",
      "i = 0 cost = 0.36017090088757114\n",
      "i = 0 cost = 0.036502472237326174\n",
      "i = 0 cost = 0.014432138865768744\n",
      "i = 0 cost = 0.008345841361445384\n",
      "i = 0 cost = 0.004427963229414081\n",
      "i = 0 cost = 0.00304379475615399\n",
      "i = 0 cost = 0.0034615181308404186\n",
      "i = 0 cost = 0.0007554561155419205\n",
      "i = 0 cost = 0.00011671633627386083\n",
      "i = 0 cost = 0.0001351364498850188\n",
      "i = 0 cost = 0.00018312368550526726\n",
      "i = 0 cost = 0.000149180771977545\n",
      "i = 0 cost = 3.292369811545593e-05\n",
      "i = 0 cost = 8.12849160612381e-05\n",
      "i = 0 cost = 0.0001545877980655422\n",
      "i = 0 cost = 0.00011201323091172003\n",
      "i = 0 cost = 6.663870876294167e-05\n",
      "i = 0 cost = 4.80961588115171e-05\n",
      "i = 0 cost = 7.232775234889813e-06\n",
      "i = 0 cost = 3.271778389389641e-05\n",
      "i = 0 cost = 2.07696250378649e-05\n",
      "i = 0 cost = 1.4624799688684618e-05\n",
      "i = 0 cost = 4.4964669661651095e-06\n",
      "i = 0 cost = 7.352784436141715e-06\n",
      "i = 0 cost = 6.7693508162248926e-06\n",
      "i = 0 cost = 4.015586406408466e-06\n",
      "i = 0 cost = 3.7510139989699323e-06\n",
      "i = 0 cost = 5.019565807150144e-07\n",
      "i = 0 cost = 3.320159118544993e-06\n",
      "i = 0 cost = 2.0631173559935126e-06\n",
      "i = 0 cost = 2.0617875584210638e-06\n",
      "i = 0 cost = 5.83508733153637e-07\n",
      "i = 0 cost = 1.3497427379859032e-06\n"
     ]
    }
   ],
   "source": [
    "epochs = 50\n",
    "num_hidden_nodes = 1000\n",
    "learning_rate = 0.02\n",
    "batch_size = 1\n",
    "trained_weights_and_biases, costList = train_model(X_train, Y_train, num_hidden_nodes, learning_rate, epochs, batch_size = batch_size)"
   ]
  },
  {
   "cell_type": "code",
   "execution_count": 13,
   "metadata": {},
   "outputs": [
    {
     "data": {
      "image/png": "[encoded data removed]",
      "text/plain": [
       "<Figure size 640x480 with 1 Axes>"
      ]
     },
     "metadata": {},
     "output_type": "display_data"
    }
   ],
   "source": [
    "t = np.arange(0, len(costList))\n",
    "plt.plot(t, costList)\n",
    "plt.show()"
   ]
  },
  {
   "cell_type": "code",
   "execution_count": 14,
   "metadata": {},
   "outputs": [],
   "source": [
    "def measureAccuracy(input, labels, weights_and_biases):\n",
    "    prediction_dict = forward_propagation(input, weights_and_biases) \n",
    "    A2 = prediction_dict['A2']\n",
    "    A2_max_index = np.argmax(A2, 0)\n",
    "    label = np.argmax(labels, 0)\n",
    "\n",
    "    accuracy = np.mean(A2_max_index == label)*100\n",
    "\n",
    "    return(accuracy)"
   ]
  },
  {
   "cell_type": "code",
   "execution_count": 15,
   "metadata": {},
   "outputs": [
    {
     "name": "stdout",
     "output_type": "stream",
     "text": [
      "Training Accuracy 94.5\n",
      "Testing Accuracy 80.28571428571428\n"
     ]
    }
   ],
   "source": [
    "print(\"Training Accuracy\", measureAccuracy(X_train, Y_train, trained_weights_and_biases))\n",
    "print(\"Testing Accuracy\", measureAccuracy(X_test, Y_test, trained_weights_and_biases))"
   ]
  }
 ],
 "metadata": {
  "kernelspec": {
   "display_name": "Python 3",
   "language": "python",
   "name": "python3"
  },
  "language_info": {
   "codemirror_mode": {
    "name": "ipython",
    "version": 3
   },
   "file_extension": ".py",
   "mimetype": "text/x-python",
   "name": "python",
   "nbconvert_exporter": "python",
   "pygments_lexer": "ipython3",
   "version": "3.11.0"
  },
  "orig_nbformat": 4
 },
 "nbformat": 4,
 "nbformat_minor": 2
}
