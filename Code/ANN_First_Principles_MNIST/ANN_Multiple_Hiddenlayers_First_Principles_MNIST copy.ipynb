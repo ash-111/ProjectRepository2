{
 "cells": [
  {
   "cell_type": "code",
   "execution_count": 1,
   "metadata": {},
   "outputs": [],
   "source": [
    "import numpy as np\n",
    "import matplotlib.pyplot as plt"
   ]
  },
  {
   "cell_type": "code",
   "execution_count": 2,
   "metadata": {},
   "outputs": [],
   "source": [
    "X_train = np.loadtxt('train_X.csv', delimiter=',').T\n",
    "Y_train = np.loadtxt('train_Y.csv', delimiter=',').T\n",
    "\n",
    "X_test = np.loadtxt('test_X.csv', delimiter=',').T\n",
    "Y_test = np.loadtxt('test_Y.csv', delimiter=',').T\n",
    "\n",
    "X_train = X_train/255.0\n",
    "X_test  = X_test/255.0\n"
   ]
  },
  {
   "cell_type": "code",
   "execution_count": 5,
   "metadata": {},
   "outputs": [
    {
     "name": "stdout",
     "output_type": "stream",
     "text": [
      "(784, 1000)\n",
      "(10, 1000)\n",
      "(784, 350)\n",
      "(10, 350)\n"
     ]
    }
   ],
   "source": [
    "print(X_train.shape)\n",
    "print(Y_train.shape)\n",
    "print(X_test.shape)\n",
    "print(Y_test.shape)"
   ]
  },
  {
   "cell_type": "code",
   "execution_count": 6,
   "metadata": {},
   "outputs": [
    {
     "name": "stdout",
     "output_type": "stream",
     "text": [
      "715\n"
     ]
    },
    {
     "data": {
      "image/png": "[encoded data removed]",
      "text/plain": [
       "<Figure size 640x480 with 1 Axes>"
      ]
     },
     "metadata": {},
     "output_type": "display_data"
    }
   ],
   "source": [
    "index = int(np.random.uniform(low = 0,high = X_train.shape[1], size = 1))\n",
    "print(index)\n",
    "plt.imshow(X_train[:, index].reshape(28,28), cmap = 'gray')\n",
    "plt.show()"
   ]
  },
  {
   "cell_type": "code",
   "execution_count": 7,
   "metadata": {},
   "outputs": [],
   "source": [
    "def sigmoid(x):\n",
    "    return 1/(1+np.exp(-x))\n",
    "\n",
    "def softmax(x):\n",
    "    expX = np.exp(x)\n",
    "    return expX/np.sum(expX, axis = 0)\n",
    "\n",
    "def deriv_tanh(x):  \n",
    "    return (1 - np.power(np.tanh(x), 2))\n",
    "\n",
    "def relu(x):\n",
    "    return np.maximum(x, 0)\n",
    "\n",
    "def deriv_relu(x):\n",
    "    return np.array(x > 0, dtype = np.float32)"
   ]
  },
  {
   "cell_type": "code",
   "execution_count": 23,
   "metadata": {},
   "outputs": [],
   "source": [
    "def initialize_weights_and_biases(layer_dimensions):\n",
    "    \n",
    "    L = len(layer_dimensions) # total number of layers (including input layer)\n",
    "\n",
    "    weights_and_biases = {}\n",
    "\n",
    "    for i in range(1, L): # loop over\n",
    "        weights_and_biases[f'W{i}'] = np.random.randn(layer_dimensions[i], layer_dimensions[i-1]) / np.sqrt(layer_dimensions[i-1])\n",
    "        weights_and_biases[f'B{i}'] = np.zeros((layer_dimensions[i], 1))\n",
    "\n",
    "    return weights_and_biases\n",
    "\n"
   ]
  },
  {
   "cell_type": "code",
   "execution_count": 3,
   "metadata": {},
   "outputs": [],
   "source": [
    "def forward_propagation(input, weights_and_biases, activation_function = 'relu'):\n",
    "\n",
    "    if activation_function == 'relu':\n",
    "        def Activation_Function(x):\n",
    "            return relu(x)\n",
    "    elif activation_function == 'tanh':\n",
    "        def Activation_Function(x):\n",
    "            return np.tanh(x)\n",
    "\n",
    "\n",
    "    x = input\n",
    "\n",
    "    L = len(weights_and_biases)//2  #dividing by 2 because dictionary contains \n",
    "                                    #a weight and a biase for each layer\n",
    "    \n",
    "    forward_prop_dict = {}\n",
    "\n",
    "    forward_prop_dict['A0'] = x\n",
    "\n",
    "\n",
    "    for i in range(1, L):\n",
    "        forward_prop_dict[f'Z{i}'] = weights_and_biases[f'W{i}'] @ forward_prop_dict[f'A{i-1}'] + weights_and_biases[f'B{i}']\n",
    "        forward_prop_dict[f'A{i}'] = Activation_Function(forward_prop_dict[f'Z{i}'])\n",
    "    \n",
    "    forward_prop_dict[f'Z{L}'] = weights_and_biases[f'W{L}'] @ forward_prop_dict[f'A{L-1}'] + weights_and_biases[f'B{L}']\n",
    "    \n",
    "    if forward_prop_dict[f'Z{L}'].shape[0] == 1:\n",
    "        forward_prop_dict[f'A{L}'] = sigmoid(forward_prop_dict[f'Z{L}'])\n",
    "    else:\n",
    "        forward_prop_dict[f'A{L}'] = softmax(forward_prop_dict[f'Z{L}'])\n",
    "\n",
    "    return forward_prop_dict[f'A{L}'], forward_prop_dict"
   ]
  },
  {
   "cell_type": "code",
   "execution_count": 25,
   "metadata": {},
   "outputs": [],
   "source": [
    "def cost_function(AL, y):\n",
    "    # Batch size: m\n",
    "    m = y.shape[1]\n",
    "\n",
    "    #Check if binary classification:\n",
    "    if y.shape[0] > 1:\n",
    "        cost = -(1/m)*np.sum(y*np.log(AL))\n",
    "    else:\n",
    "        cost = -(1/m)*np.sum(y*np.log(AL) + (1-y)*np.log(1-AL))\n",
    "\n",
    "    # [[[0]]] -> [0]\n",
    "    return np.squeeze(cost)"
   ]
  },
  {
   "cell_type": "code",
   "execution_count": 26,
   "metadata": {},
   "outputs": [],
   "source": [
    "def back_propagation(x, y, weights_and_biases, forward_prop_dict, activation_function):\n",
    "    \n",
    "    if activation_function == 'relu':\n",
    "        def derivative_Activation_Function(x):\n",
    "            return deriv_relu(x)\n",
    "    elif activation_function == 'tanh':\n",
    "        def derivative_Activation_Function(x):\n",
    "            return deriv_tanh(x)\n",
    "\n",
    "    \n",
    "    gradients = {}\n",
    "    L = len(weights_and_biases)//2    \n",
    "    m = x.shape[1]\n",
    "\n",
    "    gradients[f'dZ{L}'] = forward_prop_dict[f'A{L}'] - y\n",
    "    gradients[f'dW{L}'] = (1/m) * gradients[f'dZ{L}'] @ forward_prop_dict[f'A{L-1}'].T\n",
    "    gradients[f'dB{L}'] = (1/m) * np.sum(gradients[f'dZ{L}'], axis=1, keepdims=True) \n",
    "\n",
    "    #Calculate gradients backwards therefore count backwards\n",
    "    for l in range(L-1, 0, -1):\n",
    "        gradients[f'dZ{l}'] = weights_and_biases[f'W{l+1}'].T @ gradients[f'dZ{l+1}'] * derivative_Activation_Function(forward_prop_dict[f'Z{l}'])\n",
    "        gradients[f'dW{l}'] = (1/m)*gradients[f'dZ{l}'] @ forward_prop_dict[f'A{l-1}'].T\n",
    "        gradients[f'dB{l}'] = (1/m) * np.sum(gradients[f'dZ{l}'], axis=1, keepdims=True) \n",
    "    \n",
    "\n",
    "    return gradients\n",
    "    "
   ]
  },
  {
   "cell_type": "code",
   "execution_count": 27,
   "metadata": {},
   "outputs": [],
   "source": [
    "def update_weights_and_biases(weights_and_biases, gradients, learning_rate):\n",
    "    \n",
    "    L = len(weights_and_biases)//2    \n",
    "\n",
    "    a = learning_rate\n",
    "    for l in range(1, L):\n",
    "        weights_and_biases[f'W{l}'] = weights_and_biases[f'W{l}'] - a*gradients[f'dW{l}']\n",
    "        weights_and_biases[f'B{l}'] = weights_and_biases[f'B{l}'] - a*gradients[f'dB{l}']\n",
    "    \n",
    "    return weights_and_biases\n",
    "\n"
   ]
  },
  {
   "cell_type": "code",
   "execution_count": 6,
   "metadata": {},
   "outputs": [],
   "source": [
    "def measureAccuracy(input, labels, weights_and_biases):\n",
    "    AL, prediction_dict = forward_propagation(input, weights_and_biases, activation_function = 'relu') \n",
    "    AL_max_index = np.argmax(AL, 0)\n",
    "    label = np.argmax(labels, 0)\n",
    "\n",
    "    accuracy = np.mean(AL_max_index == label)*100\n",
    "\n",
    "    return(accuracy)"
   ]
  },
  {
   "cell_type": "code",
   "execution_count": 29,
   "metadata": {},
   "outputs": [],
   "source": [
    "def train_model(x_train, y_train, layer_dimensions, learning_rate, epochs, batch_size, activation_function = 'relu'):\n",
    "\n",
    "    \n",
    "    weights_and_biases = initialize_weights_and_biases(layer_dimensions)\n",
    "\n",
    "    L = len(layer_dimensions)-1\n",
    "\n",
    "    costList = []\n",
    "\n",
    "    x_train = x_train.reshape(x_train.shape[0], batch_size, -1)\n",
    "    y_train = y_train.reshape(y_train.shape[0], batch_size, -1)\n",
    "    print(x_train.shape)\n",
    "\n",
    "    iterations = x_train.shape[2]\n",
    "\n",
    "    for j in range(epochs):\n",
    "        for i in (range(iterations)):\n",
    "            x = x_train[:,:,i]\n",
    "            y = y_train[:,:,i]\n",
    "\n",
    "            AL, forward_prop_dict = forward_propagation(x, weights_and_biases, activation_function=activation_function)\n",
    "\n",
    "            cost = cost_function(AL, y)\n",
    "\n",
    "            gradients = back_propagation(x, y, weights_and_biases, forward_prop_dict, activation_function=activation_function)\n",
    "\n",
    "            weights_and_biases = update_weights_and_biases(weights_and_biases, gradients, learning_rate)\n",
    "\n",
    "            costList.append(cost)\n",
    "        \n",
    "            if i % 1000 == 0:\n",
    "                print(f'{(j+1)*(i+1)*1000}/{epochs*iterations} Train_Acc: {round(measureAccuracy(X_train, Y_train, weights_and_biases),2)}, Test_Acc: {round(measureAccuracy(X_test, Y_test, weights_and_biases),2)}\\r', end=\"\")\n",
    "                # print 'Downloading File FooFile.txt [%d%%]\\r'\n",
    "            # if i % 70 == 0:\n",
    "                # print(\"--\", end='')\n",
    "\n",
    "    return weights_and_biases, costList\n"
   ]
  },
  {
   "cell_type": "code",
   "execution_count": 30,
   "metadata": {},
   "outputs": [
    {
     "name": "stdout",
     "output_type": "stream",
     "text": [
      "(784, 1, 1000)"
     ]
    },
    {
     "name": "stdout",
     "output_type": "stream",
     "text": [
      "\n",
      "70000/70000 Train_Acc: 99.9, Test_Acc: 84.86\r"
     ]
    }
   ],
   "source": [
    "epochs = 70\n",
    "learning_rate = 0.02\n",
    "batch_size = 1\n",
    "trained_weights_and_biases, costList = train_model(X_train, Y_train, [X_train.shape[0], 500, 500, Y_train.shape[0]], learning_rate = learning_rate, epochs = epochs, batch_size = batch_size, activation_function = 'relu')"
   ]
  },
  {
   "cell_type": "code",
   "execution_count": 34,
   "metadata": {},
   "outputs": [],
   "source": [
    "# Save the dictionary of arrays to an .npz file\n",
    "# np.savez('MNISTdata.npz', **trained_weights_and_biases)"
   ]
  },
  {
   "cell_type": "code",
   "execution_count": 4,
   "metadata": {},
   "outputs": [],
   "source": [
    "# To load the data back into a dictionary\n",
    "loaded_data = np.load('MNISTdata.npz')\n",
    "\n",
    "trained_weights_and_biases = {key: loaded_data[key] for key in loaded_data.files}"
   ]
  },
  {
   "cell_type": "code",
   "execution_count": 31,
   "metadata": {},
   "outputs": [
    {
     "data": {
      "image/png": "[encoded data removed]",
      "text/plain": [
       "<Figure size 640x480 with 1 Axes>"
      ]
     },
     "metadata": {},
     "output_type": "display_data"
    }
   ],
   "source": [
    "t = np.arange(0, len(costList))\n",
    "plt.plot(t, costList)\n",
    "plt.show()"
   ]
  },
  {
   "cell_type": "code",
   "execution_count": 7,
   "metadata": {},
   "outputs": [
    {
     "ename": "NameError",
     "evalue": "name 'relu' is not defined",
     "output_type": "error",
     "traceback": [
      "\u001b[1;31m---------------------------------------------------------------------------\u001b[0m",
      "\u001b[1;31mNameError\u001b[0m                                 Traceback (most recent call last)",
      "\u001b[1;32mg:\\My Drive\\EPR_420\\Code\\ANN_First_Principles_MNIST\\ANN_Multiple_Hiddenlayers_First_Principles_MNIST copy.ipynb Cell 17\u001b[0m line \u001b[0;36m1\n\u001b[1;32m----> <a href='vscode-notebook-cell:/g%3A/My%20Drive/EPR_420/Code/ANN_First_Principles_MNIST/ANN_Multiple_Hiddenlayers_First_Principles_MNIST%20copy.ipynb#X20sZmlsZQ%3D%3D?line=0'>1</a>\u001b[0m \u001b[39mprint\u001b[39m(\u001b[39m\"\u001b[39m\u001b[39mTraining Accuracy\u001b[39m\u001b[39m\"\u001b[39m, measureAccuracy(X_train, Y_train, trained_weights_and_biases))\n\u001b[0;32m      <a href='vscode-notebook-cell:/g%3A/My%20Drive/EPR_420/Code/ANN_First_Principles_MNIST/ANN_Multiple_Hiddenlayers_First_Principles_MNIST%20copy.ipynb#X20sZmlsZQ%3D%3D?line=1'>2</a>\u001b[0m \u001b[39mprint\u001b[39m(\u001b[39m\"\u001b[39m\u001b[39mTesting Accuracy\u001b[39m\u001b[39m\"\u001b[39m, measureAccuracy(X_test, Y_test, trained_weights_and_biases))\n",
      "\u001b[1;32mg:\\My Drive\\EPR_420\\Code\\ANN_First_Principles_MNIST\\ANN_Multiple_Hiddenlayers_First_Principles_MNIST copy.ipynb Cell 17\u001b[0m line \u001b[0;36m2\n\u001b[0;32m      <a href='vscode-notebook-cell:/g%3A/My%20Drive/EPR_420/Code/ANN_First_Principles_MNIST/ANN_Multiple_Hiddenlayers_First_Principles_MNIST%20copy.ipynb#X20sZmlsZQ%3D%3D?line=0'>1</a>\u001b[0m \u001b[39mdef\u001b[39;00m \u001b[39mmeasureAccuracy\u001b[39m(\u001b[39minput\u001b[39m, labels, weights_and_biases):\n\u001b[1;32m----> <a href='vscode-notebook-cell:/g%3A/My%20Drive/EPR_420/Code/ANN_First_Principles_MNIST/ANN_Multiple_Hiddenlayers_First_Principles_MNIST%20copy.ipynb#X20sZmlsZQ%3D%3D?line=1'>2</a>\u001b[0m     AL, prediction_dict \u001b[39m=\u001b[39m forward_propagation(\u001b[39minput\u001b[39;49m, weights_and_biases, activation_function \u001b[39m=\u001b[39;49m \u001b[39m'\u001b[39;49m\u001b[39mrelu\u001b[39;49m\u001b[39m'\u001b[39;49m) \n\u001b[0;32m      <a href='vscode-notebook-cell:/g%3A/My%20Drive/EPR_420/Code/ANN_First_Principles_MNIST/ANN_Multiple_Hiddenlayers_First_Principles_MNIST%20copy.ipynb#X20sZmlsZQ%3D%3D?line=2'>3</a>\u001b[0m     AL_max_index \u001b[39m=\u001b[39m np\u001b[39m.\u001b[39margmax(AL, \u001b[39m0\u001b[39m)\n\u001b[0;32m      <a href='vscode-notebook-cell:/g%3A/My%20Drive/EPR_420/Code/ANN_First_Principles_MNIST/ANN_Multiple_Hiddenlayers_First_Principles_MNIST%20copy.ipynb#X20sZmlsZQ%3D%3D?line=3'>4</a>\u001b[0m     label \u001b[39m=\u001b[39m np\u001b[39m.\u001b[39margmax(labels, \u001b[39m0\u001b[39m)\n",
      "\u001b[1;32mg:\\My Drive\\EPR_420\\Code\\ANN_First_Principles_MNIST\\ANN_Multiple_Hiddenlayers_First_Principles_MNIST copy.ipynb Cell 17\u001b[0m line \u001b[0;36m2\n\u001b[0;32m     <a href='vscode-notebook-cell:/g%3A/My%20Drive/EPR_420/Code/ANN_First_Principles_MNIST/ANN_Multiple_Hiddenlayers_First_Principles_MNIST%20copy.ipynb#X20sZmlsZQ%3D%3D?line=20'>21</a>\u001b[0m \u001b[39mfor\u001b[39;00m i \u001b[39min\u001b[39;00m \u001b[39mrange\u001b[39m(\u001b[39m1\u001b[39m, L):\n\u001b[0;32m     <a href='vscode-notebook-cell:/g%3A/My%20Drive/EPR_420/Code/ANN_First_Principles_MNIST/ANN_Multiple_Hiddenlayers_First_Principles_MNIST%20copy.ipynb#X20sZmlsZQ%3D%3D?line=21'>22</a>\u001b[0m     forward_prop_dict[\u001b[39mf\u001b[39m\u001b[39m'\u001b[39m\u001b[39mZ\u001b[39m\u001b[39m{\u001b[39;00mi\u001b[39m}\u001b[39;00m\u001b[39m'\u001b[39m] \u001b[39m=\u001b[39m weights_and_biases[\u001b[39mf\u001b[39m\u001b[39m'\u001b[39m\u001b[39mW\u001b[39m\u001b[39m{\u001b[39;00mi\u001b[39m}\u001b[39;00m\u001b[39m'\u001b[39m] \u001b[39m@\u001b[39m forward_prop_dict[\u001b[39mf\u001b[39m\u001b[39m'\u001b[39m\u001b[39mA\u001b[39m\u001b[39m{\u001b[39;00mi\u001b[39m-\u001b[39m\u001b[39m1\u001b[39m\u001b[39m}\u001b[39;00m\u001b[39m'\u001b[39m] \u001b[39m+\u001b[39m weights_and_biases[\u001b[39mf\u001b[39m\u001b[39m'\u001b[39m\u001b[39mB\u001b[39m\u001b[39m{\u001b[39;00mi\u001b[39m}\u001b[39;00m\u001b[39m'\u001b[39m]\n\u001b[1;32m---> <a href='vscode-notebook-cell:/g%3A/My%20Drive/EPR_420/Code/ANN_First_Principles_MNIST/ANN_Multiple_Hiddenlayers_First_Principles_MNIST%20copy.ipynb#X20sZmlsZQ%3D%3D?line=22'>23</a>\u001b[0m     forward_prop_dict[\u001b[39mf\u001b[39m\u001b[39m'\u001b[39m\u001b[39mA\u001b[39m\u001b[39m{\u001b[39;00mi\u001b[39m}\u001b[39;00m\u001b[39m'\u001b[39m] \u001b[39m=\u001b[39m Activation_Function(forward_prop_dict[\u001b[39mf\u001b[39;49m\u001b[39m'\u001b[39;49m\u001b[39mZ\u001b[39;49m\u001b[39m{\u001b[39;49;00mi\u001b[39m}\u001b[39;49;00m\u001b[39m'\u001b[39;49m])\n\u001b[0;32m     <a href='vscode-notebook-cell:/g%3A/My%20Drive/EPR_420/Code/ANN_First_Principles_MNIST/ANN_Multiple_Hiddenlayers_First_Principles_MNIST%20copy.ipynb#X20sZmlsZQ%3D%3D?line=24'>25</a>\u001b[0m forward_prop_dict[\u001b[39mf\u001b[39m\u001b[39m'\u001b[39m\u001b[39mZ\u001b[39m\u001b[39m{\u001b[39;00mL\u001b[39m}\u001b[39;00m\u001b[39m'\u001b[39m] \u001b[39m=\u001b[39m weights_and_biases[\u001b[39mf\u001b[39m\u001b[39m'\u001b[39m\u001b[39mW\u001b[39m\u001b[39m{\u001b[39;00mL\u001b[39m}\u001b[39;00m\u001b[39m'\u001b[39m] \u001b[39m@\u001b[39m forward_prop_dict[\u001b[39mf\u001b[39m\u001b[39m'\u001b[39m\u001b[39mA\u001b[39m\u001b[39m{\u001b[39;00mL\u001b[39m-\u001b[39m\u001b[39m1\u001b[39m\u001b[39m}\u001b[39;00m\u001b[39m'\u001b[39m] \u001b[39m+\u001b[39m weights_and_biases[\u001b[39mf\u001b[39m\u001b[39m'\u001b[39m\u001b[39mB\u001b[39m\u001b[39m{\u001b[39;00mL\u001b[39m}\u001b[39;00m\u001b[39m'\u001b[39m]\n\u001b[0;32m     <a href='vscode-notebook-cell:/g%3A/My%20Drive/EPR_420/Code/ANN_First_Principles_MNIST/ANN_Multiple_Hiddenlayers_First_Principles_MNIST%20copy.ipynb#X20sZmlsZQ%3D%3D?line=26'>27</a>\u001b[0m \u001b[39mif\u001b[39;00m forward_prop_dict[\u001b[39mf\u001b[39m\u001b[39m'\u001b[39m\u001b[39mZ\u001b[39m\u001b[39m{\u001b[39;00mL\u001b[39m}\u001b[39;00m\u001b[39m'\u001b[39m]\u001b[39m.\u001b[39mshape[\u001b[39m0\u001b[39m] \u001b[39m==\u001b[39m \u001b[39m1\u001b[39m:\n",
      "\u001b[1;32mg:\\My Drive\\EPR_420\\Code\\ANN_First_Principles_MNIST\\ANN_Multiple_Hiddenlayers_First_Principles_MNIST copy.ipynb Cell 17\u001b[0m line \u001b[0;36m5\n\u001b[0;32m      <a href='vscode-notebook-cell:/g%3A/My%20Drive/EPR_420/Code/ANN_First_Principles_MNIST/ANN_Multiple_Hiddenlayers_First_Principles_MNIST%20copy.ipynb#X20sZmlsZQ%3D%3D?line=3'>4</a>\u001b[0m \u001b[39mdef\u001b[39;00m \u001b[39mActivation_Function\u001b[39m(x):\n\u001b[1;32m----> <a href='vscode-notebook-cell:/g%3A/My%20Drive/EPR_420/Code/ANN_First_Principles_MNIST/ANN_Multiple_Hiddenlayers_First_Principles_MNIST%20copy.ipynb#X20sZmlsZQ%3D%3D?line=4'>5</a>\u001b[0m     \u001b[39mreturn\u001b[39;00m relu(x)\n",
      "\u001b[1;31mNameError\u001b[0m: name 'relu' is not defined"
     ]
    }
   ],
   "source": [
    "print(\"Training Accuracy\", measureAccuracy(X_train, Y_train, trained_weights_and_biases))\n",
    "print(\"Testing Accuracy\", measureAccuracy(X_test, Y_test, trained_weights_and_biases))"
   ]
  },
  {
   "cell_type": "code",
   "execution_count": 18,
   "metadata": {},
   "outputs": [
    {
     "name": "stdout",
     "output_type": "stream",
     "text": [
      "300\n"
     ]
    },
    {
     "data": {
      "image/png": "[encoded data removed]",
      "text/plain": [
       "<Figure size 640x480 with 1 Axes>"
      ]
     },
     "metadata": {},
     "output_type": "display_data"
    },
    {
     "name": "stdout",
     "output_type": "stream",
     "text": [
      "[array([8], dtype=int64)]\n"
     ]
    }
   ],
   "source": [
    "index = int(np.random.uniform(low = 0,high = X_test.shape[1], size = 1))\n",
    "print(index)\n",
    "plt.imshow(X_test[:, index].reshape(28,28), cmap = 'gray')\n",
    "plt.show()\n",
    "\n",
    "image = X_test[:, index]\n",
    "\n",
    "MNISTSet = [0,1,2,3,4,5,6,7,8,9]\n",
    "\n",
    "AL, prediction_dict = forward_propagation(image.reshape(X_test.shape[0], 1), trained_weights_and_biases, activation_function = 'relu') \n",
    "print([np.argmax(AL,0)])"
   ]
  }
 ],
 "metadata": {
  "kernelspec": {
   "display_name": "Python 3",
   "language": "python",
   "name": "python3"
  },
  "language_info": {
   "codemirror_mode": {
    "name": "ipython",
    "version": 3
   },
   "file_extension": ".py",
   "mimetype": "text/x-python",
   "name": "python",
   "nbconvert_exporter": "python",
   "pygments_lexer": "ipython3",
   "version": "3.11.0"
  },
  "orig_nbformat": 4
 },
 "nbformat": 4,
 "nbformat_minor": 2
}
