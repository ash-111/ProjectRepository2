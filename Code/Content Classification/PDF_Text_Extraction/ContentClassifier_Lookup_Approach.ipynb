{
 "cells": [
  {
   "cell_type": "markdown",
   "metadata": {},
   "source": []
  },
  {
   "cell_type": "code",
   "execution_count": 1,
   "metadata": {},
   "outputs": [
    {
     "name": "stdout",
     "output_type": "stream",
     "text": [
      "over here\n",
      "[]\n"
     ]
    }
   ],
   "source": [
    "from LookUp import GetAllPDFsPaths\n",
    "import numpy as np\n",
    "\n",
    "# Load Content Class Keywords:\n",
    "contentClassesPath = r\"G:\\My Drive\\EPR_420\\Code\\Content Classification\\PDF_Text_Extraction\\Content_Classes\"\n",
    "\n",
    "documentPathsList, y_labels = GetAllPDFsPaths(contentClassesPath)\n",
    "\n",
    "print(documentPathsList)\n",
    "\n",
    "\n",
    "\n",
    "# trainPath = r\"G:\\My Drive\\EPR_420\\Code\\Content Classification\\Testing Document Templates\\A) Latin Language PDFs\\A) English PDFs\\Training\"\n",
    "# languageDictionaryPath = r\"G:\\My Drive\\EPR_420\\Code\\main\\dictionaries\\english_words_dictionary.json\"\n",
    "\n",
    "# # y_label generated within constructor \n",
    "# tf_idf = TF_IDF(trainPath, languageDictionaryPath)\n",
    "# print(tf_idf.Get_y_label())\n",
    "# tf_idf.GetVocabList()\n",
    "# tf_idf.CalculateTermFreqTable()\n",
    "# tf_idf.Calculate_TF_IDF_Train()\n",
    "\n",
    "\n"
   ]
  },
  {
   "cell_type": "markdown",
   "metadata": {},
   "source": [
    "Multiple PDFs Test:"
   ]
  },
  {
   "cell_type": "code",
   "execution_count": 2,
   "metadata": {},
   "outputs": [
    {
     "ename": "NameError",
     "evalue": "name 'tf_idf' is not defined",
     "output_type": "error",
     "traceback": [
      "\u001b[1;31m---------------------------------------------------------------------------\u001b[0m",
      "\u001b[1;31mNameError\u001b[0m                                 Traceback (most recent call last)",
      "Cell \u001b[1;32mIn[2], line 4\u001b[0m\n\u001b[0;32m      1\u001b[0m \u001b[39mfrom\u001b[39;00m \u001b[39mKNN\u001b[39;00m \u001b[39mimport\u001b[39;00m KNN\n\u001b[0;32m      3\u001b[0m testFolderPath \u001b[39m=\u001b[39m \u001b[39mr\u001b[39m\u001b[39m\"\u001b[39m\u001b[39mG:\u001b[39m\u001b[39m\\\u001b[39m\u001b[39mMy Drive\u001b[39m\u001b[39m\\\u001b[39m\u001b[39mEPR_420\u001b[39m\u001b[39m\\\u001b[39m\u001b[39mCode\u001b[39m\u001b[39m\\\u001b[39m\u001b[39mContent Classification\u001b[39m\u001b[39m\\\u001b[39m\u001b[39mTesting Document Templates\u001b[39m\u001b[39m\\\u001b[39m\u001b[39mA) Latin Language PDFs\u001b[39m\u001b[39m\\\u001b[39m\u001b[39mA) English PDFs\u001b[39m\u001b[39m\\\u001b[39m\u001b[39mTesting\u001b[39m\u001b[39m\"\u001b[39m\n\u001b[1;32m----> 4\u001b[0m tf_idf_train \u001b[39m=\u001b[39m tf_idf\u001b[39m.\u001b[39mGet_TF_IDF_Train()\n\u001b[0;32m      7\u001b[0m tf_idf_testPDFs, Actual_y_Labels \u001b[39m=\u001b[39m tf_idf\u001b[39m.\u001b[39mGet_TF_IDF_Multiple_PDFs(testFolderPath)\n\u001b[0;32m      9\u001b[0m \u001b[39m# print(tf_idf_testPDFs.shape)\u001b[39;00m\n",
      "\u001b[1;31mNameError\u001b[0m: name 'tf_idf' is not defined"
     ]
    }
   ],
   "source": [
    "from KNN import KNN\n",
    "\n",
    "testFolderPath = r\"G:\\My Drive\\EPR_420\\Code\\Content Classification\\Testing Document Templates\\A) Latin Language PDFs\\A) English PDFs\\Testing\"\n",
    "tf_idf_train = tf_idf.Get_TF_IDF_Train()\n",
    "\n",
    "\n",
    "tf_idf_testPDFs, Actual_y_Labels = tf_idf.Get_TF_IDF_Multiple_PDFs(testFolderPath)\n",
    "\n",
    "# print(tf_idf_testPDFs.shape)\n",
    "\n"
   ]
  },
  {
   "cell_type": "code",
   "execution_count": null,
   "metadata": {},
   "outputs": [
    {
     "name": "stdout",
     "output_type": "stream",
     "text": [
      "['general', 'diet', 'menu', 'breakfast', 'general', 'diet', 'menu', 'lunch', 'and', 'dinner', 'breakfast', 'grill', 'items', 'available', 'until', 'pm', 'aa', 'llaa', 'ccaarrttee', 'salads', 'side', 'salads', 'available', 'ffrreesshh', 'ffrruuiitt', 'aappppllee', 'gg', 'bbaannaannaa', 'gg', 'oorraannggee', 'gg', 'ggrraappeess', 'gg', 'chicken', 'caesar', 'salad', 'aapppplleessaauuccee', 'gg', 'fresh', 'greens', 'g', 'tossed', 'with', 'grilled', 'chicken', 'parmesan', 'cheese', 'and', 'd', 'di', 'ic', 'ce', 'ed', 'd', 'f', 'fr', 'ru', 'ui', 'it', 't', 'pp', 'ee', 'aa', 'cc', 'hh', 'ee', 'ss', 'gg', 'pears', 'g', 'croutons', 'g', 'mixed', 'fruit', 'cup', 'g', 'cantaloupe', 'honeydew', 'and', 'grapes', 'mixed', 'fruit', 'cup', 'g', 'cantaloupe', 'honeydew', 'and', 'grapes', 'chef', 'salad', 'regular', 'yogurt', 'vanilla', 'g', 'strawberry', 'g', 'regular', 'yogurt', 'vanilla', 'g', 'strawberry', 'g', 'fresh', 'greens', 'tomatoes', 'and', 'cucumber', 'g', 'tossed', 'with', 'ham', 'light', 'yogurt', 'vanilla', 'g', 'strawberry', 'g', 'greek', 'yogurt', 'blueberry', 'g', 'strawberry', 'g', 'black', 'cherry', 'g', 'turkey', 'shredded', 'cheese', 'egg', 'and', 'croutons', 'g', 'greek', 'yogurt', 'blueberry', 'g', 'strawberry', 'g', 'black', 'cherry', 'g', 'chobani', 'yogurt', 'g', 'coconut', 'strawberry', 'coconut', 'vanilla', 'chobani', 'yogurt', 'g', 'coconut', 'strawberry', 'coconut', 'vanilla', 'cranberry', 'spinach', 'salad', 'bread', 'bakery', 'fresh', 'spinach', 'cucumber', 'mushrooms', 'tomatoes', 'and', 'red', 'onion', 'g', 'bread', 'bakery', 'tossed', 'with', 'dried', 'cranberries', 'g', 'and', 'asiago', 'cheese', 'toast', 'white', 'g', 'whole', 'wheat', 'g', 'cinnamon', 'raisin', 'g', 'toast', 'white', 'g', 'whole', 'wheat', 'g', 'rye', 'g', 'bagels', 'plain', 'g', 'whole', 'wheat', 'g', 'garden', 'salad', 'bagels', 'cinnamon', 'raisin', 'g', 'plain', 'g', 'whole', 'wheat', 'g', 'fresh', 'greens', 'tossed', 'with', 'cucumber', 'carrots', 'tomatoes', 'and', 'peppers', 'g', 'muffins', 'blueberry', 'g', 'apple', 'cinnamon', 'g', 'muffins', 'blueberry', 'g', 'apple', 'cinnamon', 'g', 'bran', 'g', 'ee', 'nn', 'gg', 'll', 'ii', 'ss', 'hh', 'mm', 'uu', 'ff', 'fifi', 'nn', 'g', 'g', 'dressings', 'french', 'g', 'ranch', 'g', 'caesar', 'g', 'italian', 'g', 'oil', 'vinegar', 'cold', 'cereals', 'fatfree', 'dressings', 'french', 'g', 'ranch', 'g', 'italian', 'g', 'cold', 'cereals', 'raspberry', 'vinaigrette', 'g', 'cheerios', 'g', 'corn', 'flakes', 'g', 'raisin', 'bran', 'g', 'shredded', 'wheat', 'cheerios', 'g', 'corn', 'flakes', 'g', 'raisin', 'bran', 'g', 'shredded', 'wheat', 'g', 'f', 'r', 'og', 'st', 'e', 'f', 'dr', 'o', 'fls', 'at', 'ke', 'ed', 's', 'f', 'l', 'a', 'k', 'ge', 's', 'f', 'r', 'ug', 'it', 'l', 'f', 'or', 'ou', 'pit', 's', 'l', 'o', 'o', 'gp', 's', 'r', 'i', 'ceg', 'k', 'r', 'rii', 'sc', 'pe', 'i', 'ek', 'sr', 'i', 's', 'p', 'i', 'ge', 's', 'g', 'hot', 'sides', 'allbran', 'original', 'g', 'allbran', 'original', 'g', 'potato', 'baked', 'potato', 'g', 'mashed', 'idaho', 'potatoes', 'g', 'mashed', 'hot', 'cereals', 'sweet', 'potatoes', 'g', 'hot', 'cereals', 'condiments', 'smart', 'balance', 'spread', 'condiments', 'smart', 'balance', 'spread', 'white', 'rice', 'g', 'oatmeal', 'g', 'salt', 'pepper', 'mrs', 'dash', 'jelly', 'g', 'oatmeal', 'g', 'salt', 'pepper', 'mrs', 'dash', 'jelly', 'g', 'broccoli', 'florets', 'g', 'cream', 'of', 'wheat', 'g', 'sugarfree', 'jelly', 'g', 'peanut', 'butter', 'cream', 'of', 'wheat', 'g', 'sugarfree', 'jelly', 'g', 'peanut', 'butter', 'california', 'blend', 'vegetables', 'g', 'g', 'honey', 'g', 'cream', 'cheese', 'g', 'sides', 'g', 'honey', 'g', 'cream', 'cheese', 'g', 'corn', 'g', 'sides', 'sus', 'gu', 'ag', 'ra', 'r', 'g', 'g', 'b', 'b', 'roro', 'ww', 'nn', 's', 'usu', 'gg', 'aa', 'r', 'r', 'gg', 'green', 'beans', 'g', 'bacon', 'equal', 'splenda', 'raisins', 'g', 'bacon', 'equal', 'splenda', 'raisins', 'g', 'spinach', 'g', 'turkey', 'sausage', 'syrup', 'g', 'sugarfree', 'syrup', 'g', 'turkey', 'sausage', 'syrup', 'g', 'sugarfree', 'syrup', 'g', 'vegetarian', 'refried', 'beans', 'g', 'hash', 'browns', 'g', 'ketchup', 'g', 'hot', 'sauce', 'hash', 'browns', 'g', 'ketchup', 'g', 'hot', 'sauce', 'vegetable', 'egg', 'roll', 'g', 'morning', 'specialties', 'morning', 'specialties', 'cold', 'sides', 'all', 'made', 'with', 'farmfresh', 'eggs', 'all', 'made', 'with', 'farmfresh', 'eggs', 'omelet', 'bar', 'choice', 'of', 'cheese', 'ham', 'turkey', 'sausage', 'onion', 'peppers', 'original', 'hummus', 'g', 'served', 'with', 'whole', 'grain', 'crackers', 'g', 'o', 'mm', 'use', 'hl', 're', 'ot', 'o', 'b', 'ma', 'sr', 't', 'og', 'm', 'a', 't', 'oc', 'eh', 'so', 'ic', 'spe', 'ino', 'af', 'cc', 'hheese', 'ham', 'turkey', 'sausage', 'onion', 'peppers', 'sliced', 'carrots', 'g', 'or', 'celery', 'sticks', 'mushrooms', 'tomatoes', 'spinach', 'pretzels', 'g', 'scrambled', 'eggs', 'scrambled', 'eggs', 'g', 'potato', 'chips', 'regular', 'g', 'baked', 'g', 'ssuunnrriissee', 'ssaannddwwiicchh', 'aavvaaiillaabbllee', 'oonn', 'aann', 'eenngglliisshh', 'mmuufffifinn', 'gg', 'oorr', 'bbaaggeell', 'gg', 'sliced', 'carrots', 'g', 'wwiitthh', 'eegggg', 'chgee', 'cseh', 'eaensde', 'oanr', 'dh', 'aomr', 'ham', 'ffrreenncchh', 'ttooaasstt', 'gg', 'buttermilk', 'pancake', 'g', 'buttermilk', 'pancake', 'g', 'waffle', 'g', 'with', 'strawberry', 'sauce', 'g', 'mixed', 'fruit', 'g', 'cottage', 'cheese', 'g', 'served', 'with', 'a', 'muffin', 'g', 'mixed', 'fruit', 'g', 'cottage', 'cheese', 'g', 'served', 'with', 'a', 'muffin', 'g', 'amounts', 'in', 'parentheses', 'are', 'grams', 'of', 'carbohydrates']\n"
     ]
    }
   ],
   "source": [
    "from TF_IDF import Get_Text_from_PDF\n",
    "\n",
    "path = r'G:\\My Drive\\EPR_420\\Code\\Content Classification\\Testing Document Templates\\A) Latin Language PDFs\\A) English PDFs\\Testing\\5) Dietary Menu - Testing\\BMH-Patient-Menu---General_8-9.pdf'\n",
    "print(Get_Text_from_PDF(path))"
   ]
  }
 ],
 "metadata": {
  "kernelspec": {
   "display_name": "Python 3",
   "language": "python",
   "name": "python3"
  },
  "language_info": {
   "codemirror_mode": {
    "name": "ipython",
    "version": 3
   },
   "file_extension": ".py",
   "mimetype": "text/x-python",
   "name": "python",
   "nbconvert_exporter": "python",
   "pygments_lexer": "ipython3",
   "version": "3.11.0"
  },
  "orig_nbformat": 4
 },
 "nbformat": 4,
 "nbformat_minor": 2
}
