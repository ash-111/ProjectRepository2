{
 "cells": [
  {
   "cell_type": "code",
   "execution_count": null,
   "metadata": {},
   "outputs": [],
   "source": [
    "import pdfplumber\n",
    "import re\n",
    "import os\n",
    "import numpy as np\n",
    "import json\n",
    "\n",
    "\n",
    "\n",
    "path = r\"G:\\My Drive\\EPR_420\\Code\\Content Classification\\Testing Document Templates\\A) Latin Language PDFs\\A) English PDFs\\Training\"\n",
    "languageDictionaryPath = r\"G:\\My Drive\\EPR_420\\Code\\main\\dictionaries\\english_words_dictionary.json\"\n",
    "\n",
    "with open(languageDictionaryPath) as json_file:\n",
    "    dictionary = json.load(json_file)\n",
    "\n",
    "dictionarySet = set(dictionary.keys())\n",
    "# print(dictionarySet)\n",
    "\n",
    "def Get_Document_List(path):\n",
    "    #we shall store all the file names in this list\n",
    "    documentList = []\n",
    "\n",
    "    for root, dirs, files in os.walk(path):\n",
    "        for file in files:\n",
    "            #append the file name to the list\n",
    "            if(file.endswith(\".pdf\")):\n",
    "                documentList.append(os.path.join(root,file))\n",
    "\n",
    "\n",
    "    return(documentList)\n",
    "\n",
    "documentPathsList = Get_Document_List(path)\n",
    "\n",
    "numOfDocuments = len(documentPathsList)\n",
    "\n",
    "#print all the file names\n",
    "for pathname in documentPathsList:\n",
    "    print(pathname)"
   ]
  },
  {
   "cell_type": "code",
   "execution_count": null,
   "metadata": {},
   "outputs": [],
   "source": [
    "# https://stackoverflow.com/questions/55767511/how-to-extract-text-from-pdf-in-python-3-7\n",
    "\n",
    "def Get_Text_from_PDF(docIndex, documentPathsList):\n",
    "    pathname = documentPathsList[docIndex]\n",
    "    print(docIndex, pathname)\n",
    "    pdf = pdfplumber.open(pathname)\n",
    "\n",
    "    # creating a pdf reader object\n",
    "    pdf = pdfplumber.open(pathname)\n",
    "\n",
    "    # Getting First page of pdf\n",
    "    page = pdf.pages[0]\n",
    "\n",
    "    text = page.extract_text()\n",
    "    pdf.close()\n",
    "\n",
    "    text = re.sub(r'[/]', ' ', text) # Replace all '/' with spaces \n",
    "    text = re.sub(r'[^\\w\\s]', '', text) # Removes all other punctuation\n",
    "    text = re.sub(r\"[_]+\", '', text) # Removes underscores\n",
    "    text = re.sub(r\"[0-9]\", '', text) # Removes numbers\n",
    "\n",
    "    text = text.lower()\n",
    "    textlist = text.split()\n",
    "\n",
    "    return(textlist)\n",
    "\n",
    "\n",
    "vocabSet = set()\n",
    "for i in range(0, numOfDocuments):\n",
    "    textlist = Get_Text_from_PDF(i, documentPathsList)\n",
    "\n",
    "    # For Dictionary:\n",
    "    textSet = set(textlist)\n",
    "    vocabSet = vocabSet | textSet\n",
    "\n",
    "print(vocabSet)\n",
    "print(len(vocabSet))\n",
    "\n",
    "# Remove Non-Existent words or spelling errors:\n",
    "vocabSet = vocabSet & dictionarySet\n",
    "\n",
    "vocabList = list(vocabSet)\n",
    "print(vocabList)\n",
    "print(len(vocabList))\n",
    "\n"
   ]
  },
  {
   "cell_type": "code",
   "execution_count": null,
   "metadata": {},
   "outputs": [],
   "source": [
    "termFreqTable = np.zeros((numOfDocuments, (len(vocabList))))\n",
    "\n",
    "print(termFreqTable.shape)\n",
    "\n",
    "for i in range(0,numOfDocuments):\n",
    "\n",
    "    textlist = Get_Text_from_PDF(i, documentPathsList)      \n",
    "    \n",
    "    for j in range(0,len(vocabList)):\n",
    "        word = vocabList[j]\n",
    "        if word in textlist:\n",
    "            termFreqTable[i][j] = textlist.count(word)    \n",
    "\n",
    "    # for j in range(0,len(textlist)):\n",
    "    #     word = textlist[j]\n",
    "    #     termFreqTable[i][vocabList.index(word)] = textlist.count(word)        \n",
    "            \n",
    "\n",
    " \n"
   ]
  },
  {
   "cell_type": "code",
   "execution_count": null,
   "metadata": {},
   "outputs": [],
   "source": [
    "import sys\n",
    "np.set_printoptions(threshold=sys.maxsize)\n",
    "# print(termFreqTable)\n",
    "       "
   ]
  },
  {
   "cell_type": "markdown",
   "metadata": {},
   "source": [
    "Calculate IDF Vector for VocabList"
   ]
  },
  {
   "cell_type": "code",
   "execution_count": null,
   "metadata": {},
   "outputs": [],
   "source": [
    "\n",
    "totalNumOfDocuments = numOfDocuments\n",
    "\n",
    "termFreqTableBool = termFreqTable > 0\n",
    "IDF = np.log10(totalNumOfDocuments/np.sum(termFreqTableBool, axis=0))\n",
    "IDF = np.tile(IDF, (totalNumOfDocuments, 1))\n",
    "\n",
    "# https://stackoverflow.com/questions/1550130/cloning-row-or-column-vectors\n",
    "\n",
    "    \n",
    "\n",
    "\n",
    "TotalNumofTokensInArticles = np.sum(termFreqTable, axis=1)\n",
    "\n",
    "for i in range(0, len(TotalNumofTokensInArticles)):\n",
    "    if TotalNumofTokensInArticles[i] == 0:\n",
    "        print(i)\n",
    "\n",
    "TotalNumofTokensInArticles = np.tile(np.array([TotalNumofTokensInArticles]).transpose(), (1, len(vocabList)))\n",
    "\n",
    "TF_IDF_Train = (termFreqTable/TotalNumofTokensInArticles)*IDF\n",
    "\n",
    "print(TF_IDF_Train)\n",
    "\n",
    "\n",
    "# print(TotalNumofTokensInArticle)\n",
    "# print(TotalNumofTokensInArticle.shape)\n",
    "# print(termFreqTable.shape)\n",
    "\n",
    "# print(IDF)\n",
    "# print(IDF.shape)\n",
    "# print(termFreqTable.shape)\n",
    "\n",
    "\n",
    "# for i in range(0,len(vocabList)):\n",
    "#     if 0.0 < IDF[i] < 2:\n",
    "#         print(IDF[i], vocabList[i])\n"
   ]
  },
  {
   "cell_type": "markdown",
   "metadata": {},
   "source": []
  },
  {
   "cell_type": "code",
   "execution_count": 1,
   "metadata": {},
   "outputs": [
    {
     "name": "stdout",
     "output_type": "stream",
     "text": [
      "[1, 1, 1, 1, 1, 1, 1, 1, 1, 1, 1, 1, 1, 1, 1, 1, 1, 2, 2, 2, 2, 2, 2, 2, 2, 2, 2, 3, 3, 3, 3, 3, 3, 3, 3, 3, 4, 4, 4, 4, 4, 4, 4, 4, 4, 4, 4, 6, 6, 6, 6, 6, 6, 6, 6, 6, 6, 6, 5, 5, 5, 5, 5, 5, 5, 5, 5, 5]\n",
      "0 G:\\My Drive\\EPR_420\\Code\\Content Classification\\Testing Document Templates\\A) Latin Language PDFs\\A) English PDFs\\Training\\1) Patient Registration Form\\Patient Registration Form 03.pdf\n",
      "1 G:\\My Drive\\EPR_420\\Code\\Content Classification\\Testing Document Templates\\A) Latin Language PDFs\\A) English PDFs\\Training\\1) Patient Registration Form\\Patient Registration Form 05.pdf\n",
      "2 G:\\My Drive\\EPR_420\\Code\\Content Classification\\Testing Document Templates\\A) Latin Language PDFs\\A) English PDFs\\Training\\1) Patient Registration Form\\Patient Registration Form 08.pdf\n",
      "3 G:\\My Drive\\EPR_420\\Code\\Content Classification\\Testing Document Templates\\A) Latin Language PDFs\\A) English PDFs\\Training\\1) Patient Registration Form\\Patient Registration Form 10.pdf\n",
      "4 G:\\My Drive\\EPR_420\\Code\\Content Classification\\Testing Document Templates\\A) Latin Language PDFs\\A) English PDFs\\Training\\1) Patient Registration Form\\Patient Registration Form 11.pdf\n",
      "5 G:\\My Drive\\EPR_420\\Code\\Content Classification\\Testing Document Templates\\A) Latin Language PDFs\\A) English PDFs\\Training\\1) Patient Registration Form\\Patient Registration Form 17.pdf\n",
      "6 G:\\My Drive\\EPR_420\\Code\\Content Classification\\Testing Document Templates\\A) Latin Language PDFs\\A) English PDFs\\Training\\1) Patient Registration Form\\Patient Registration Form 18.pdf\n",
      "7 G:\\My Drive\\EPR_420\\Code\\Content Classification\\Testing Document Templates\\A) Latin Language PDFs\\A) English PDFs\\Training\\1) Patient Registration Form\\Patient Registration Form 19.pdf\n",
      "8 G:\\My Drive\\EPR_420\\Code\\Content Classification\\Testing Document Templates\\A) Latin Language PDFs\\A) English PDFs\\Training\\1) Patient Registration Form\\Patient Registration Form 20.pdf\n",
      "9 G:\\My Drive\\EPR_420\\Code\\Content Classification\\Testing Document Templates\\A) Latin Language PDFs\\A) English PDFs\\Training\\1) Patient Registration Form\\Patient Registration Form 23.pdf\n",
      "10 G:\\My Drive\\EPR_420\\Code\\Content Classification\\Testing Document Templates\\A) Latin Language PDFs\\A) English PDFs\\Training\\1) Patient Registration Form\\Patient Registration Form 28.pdf\n",
      "11 G:\\My Drive\\EPR_420\\Code\\Content Classification\\Testing Document Templates\\A) Latin Language PDFs\\A) English PDFs\\Training\\1) Patient Registration Form\\Patient Registration Form 30.pdf\n",
      "12 G:\\My Drive\\EPR_420\\Code\\Content Classification\\Testing Document Templates\\A) Latin Language PDFs\\A) English PDFs\\Training\\1) Patient Registration Form\\Patient Registration Form 34.pdf\n",
      "13 G:\\My Drive\\EPR_420\\Code\\Content Classification\\Testing Document Templates\\A) Latin Language PDFs\\A) English PDFs\\Training\\1) Patient Registration Form\\Patient Registration Form 35.pdf\n",
      "14 G:\\My Drive\\EPR_420\\Code\\Content Classification\\Testing Document Templates\\A) Latin Language PDFs\\A) English PDFs\\Training\\1) Patient Registration Form\\Patient Registration Form 39.pdf\n",
      "15 G:\\My Drive\\EPR_420\\Code\\Content Classification\\Testing Document Templates\\A) Latin Language PDFs\\A) English PDFs\\Training\\1) Patient Registration Form\\Patient Registration Form 41.pdf\n",
      "16 G:\\My Drive\\EPR_420\\Code\\Content Classification\\Testing Document Templates\\A) Latin Language PDFs\\A) English PDFs\\Training\\1) Patient Registration Form\\Patient Registration Form 42.pdf\n",
      "17 G:\\My Drive\\EPR_420\\Code\\Content Classification\\Testing Document Templates\\A) Latin Language PDFs\\A) English PDFs\\Training\\2) Hospital Bills and Invoices\\Doctor-Invoice.pdf\n",
      "18 G:\\My Drive\\EPR_420\\Code\\Content Classification\\Testing Document Templates\\A) Latin Language PDFs\\A) English PDFs\\Training\\2) Hospital Bills and Invoices\\Free-Medical-Billing-Invoice-Forms.pdf\n",
      "19 G:\\My Drive\\EPR_420\\Code\\Content Classification\\Testing Document Templates\\A) Latin Language PDFs\\A) English PDFs\\Training\\2) Hospital Bills and Invoices\\Medical Bill _ PDF _ Healthcare _ Service Industries.pdf\n",
      "20 G:\\My Drive\\EPR_420\\Code\\Content Classification\\Testing Document Templates\\A) Latin Language PDFs\\A) English PDFs\\Training\\2) Hospital Bills and Invoices\\MEDICAL INVOICE_A4.pdf\n",
      "21 G:\\My Drive\\EPR_420\\Code\\Content Classification\\Testing Document Templates\\A) Latin Language PDFs\\A) English PDFs\\Training\\2) Hospital Bills and Invoices\\medical-invoice-template-word.pdf\n",
      "22 G:\\My Drive\\EPR_420\\Code\\Content Classification\\Testing Document Templates\\A) Latin Language PDFs\\A) English PDFs\\Training\\2) Hospital Bills and Invoices\\medical-invoice-template.pdf\n",
      "23 G:\\My Drive\\EPR_420\\Code\\Content Classification\\Testing Document Templates\\A) Latin Language PDFs\\A) English PDFs\\Training\\2) Hospital Bills and Invoices\\Medical-Records-Invoice-Template.pdf\n",
      "24 G:\\My Drive\\EPR_420\\Code\\Content Classification\\Testing Document Templates\\A) Latin Language PDFs\\A) English PDFs\\Training\\2) Hospital Bills and Invoices\\medical-Word-Invoice3-1-1.pdf\n",
      "25 G:\\My Drive\\EPR_420\\Code\\Content Classification\\Testing Document Templates\\A) Latin Language PDFs\\A) English PDFs\\Training\\2) Hospital Bills and Invoices\\Nurse-Invoice.pdf\n",
      "26 G:\\My Drive\\EPR_420\\Code\\Content Classification\\Testing Document Templates\\A) Latin Language PDFs\\A) English PDFs\\Training\\2) Hospital Bills and Invoices\\Psychologist-Invoice.pdf\n",
      "27 G:\\My Drive\\EPR_420\\Code\\Content Classification\\Testing Document Templates\\A) Latin Language PDFs\\A) English PDFs\\Training\\3) Insurance Forms\\Application form for Health Insurance.pdf\n",
      "28 G:\\My Drive\\EPR_420\\Code\\Content Classification\\Testing Document Templates\\A) Latin Language PDFs\\A) English PDFs\\Training\\3) Insurance Forms\\cms-1500-P.pdf\n",
      "29 G:\\My Drive\\EPR_420\\Code\\Content Classification\\Testing Document Templates\\A) Latin Language PDFs\\A) English PDFs\\Training\\3) Insurance Forms\\General Health Insurance Claim Form.pdf\n",
      "30 G:\\My Drive\\EPR_420\\Code\\Content Classification\\Testing Document Templates\\A) Latin Language PDFs\\A) English PDFs\\Training\\3) Insurance Forms\\Health Insurance Claim Form in Pdf.pdf\n",
      "31 G:\\My Drive\\EPR_420\\Code\\Content Classification\\Testing Document Templates\\A) Latin Language PDFs\\A) English PDFs\\Training\\3) Insurance Forms\\Health Insurance Claim Form Sample.pdf\n",
      "32 G:\\My Drive\\EPR_420\\Code\\Content Classification\\Testing Document Templates\\A) Latin Language PDFs\\A) English PDFs\\Training\\3) Insurance Forms\\Health insurance claim form Template.pdf\n",
      "33 G:\\My Drive\\EPR_420\\Code\\Content Classification\\Testing Document Templates\\A) Latin Language PDFs\\A) English PDFs\\Training\\3) Insurance Forms\\Health Insurance Claim Form.pdf\n",
      "34 G:\\My Drive\\EPR_420\\Code\\Content Classification\\Testing Document Templates\\A) Latin Language PDFs\\A) English PDFs\\Training\\3) Insurance Forms\\sign_232193628861058_template_withoutAudit_64d24c1c0d2cf8.29734684.pdf\n",
      "35 G:\\My Drive\\EPR_420\\Code\\Content Classification\\Testing Document Templates\\A) Latin Language PDFs\\A) English PDFs\\Training\\3) Insurance Forms\\Simple Health Insurance Claim Form.pdf\n",
      "36 G:\\My Drive\\EPR_420\\Code\\Content Classification\\Testing Document Templates\\A) Latin Language PDFs\\A) English PDFs\\Training\\4) Vaccination Cards\\2020-COVID-19-shot-card-2b.pdf\n",
      "37 G:\\My Drive\\EPR_420\\Code\\Content Classification\\Testing Document Templates\\A) Latin Language PDFs\\A) English PDFs\\Training\\4) Vaccination Cards\\3169.pdf\n",
      "38 G:\\My Drive\\EPR_420\\Code\\Content Classification\\Testing Document Templates\\A) Latin Language PDFs\\A) English PDFs\\Training\\4) Vaccination Cards\\B4SA-DoH-vaccinatiion-card-ccc-1.pdf\n",
      "39 G:\\My Drive\\EPR_420\\Code\\Content Classification\\Testing Document Templates\\A) Latin Language PDFs\\A) English PDFs\\Training\\4) Vaccination Cards\\Free Digital Vaccine Card Template.pdf\n",
      "40 G:\\My Drive\\EPR_420\\Code\\Content Classification\\Testing Document Templates\\A) Latin Language PDFs\\A) English PDFs\\Training\\4) Vaccination Cards\\Health_Immunization.pdf\n",
      "41 G:\\My Drive\\EPR_420\\Code\\Content Classification\\Testing Document Templates\\A) Latin Language PDFs\\A) English PDFs\\Training\\4) Vaccination Cards\\IMMUNIZATION_RECORD_PART_1_COMPLETED_BY.pdf\n",
      "42 G:\\My Drive\\EPR_420\\Code\\Content Classification\\Testing Document Templates\\A) Latin Language PDFs\\A) English PDFs\\Training\\4) Vaccination Cards\\Learner-Instructor-Immunization-Record-Resp-Fit-Form-2019.pdf\n",
      "43 G:\\My Drive\\EPR_420\\Code\\Content Classification\\Testing Document Templates\\A) Latin Language PDFs\\A) English PDFs\\Training\\4) Vaccination Cards\\NURSING-IMMUNIZATION-RECORD-FORM-Rev.7-v5-4.3.2020.pdf\n",
      "44 G:\\My Drive\\EPR_420\\Code\\Content Classification\\Testing Document Templates\\A) Latin Language PDFs\\A) English PDFs\\Training\\4) Vaccination Cards\\pediatric-vaccine-record.pdf\n",
      "45 G:\\My Drive\\EPR_420\\Code\\Content Classification\\Testing Document Templates\\A) Latin Language PDFs\\A) English PDFs\\Training\\4) Vaccination Cards\\Vaccination Record Card - Jotform PDF Editor.pdf\n",
      "46 G:\\My Drive\\EPR_420\\Code\\Content Classification\\Testing Document Templates\\A) Latin Language PDFs\\A) English PDFs\\Training\\4) Vaccination Cards\\VaccineAdministrationRecord_Data.pdf\n",
      "47 G:\\My Drive\\EPR_420\\Code\\Content Classification\\Testing Document Templates\\A) Latin Language PDFs\\A) English PDFs\\Training\\6) Doctor Referal Letters\\1 shc-referral-request-form.pdf\n",
      "48 G:\\My Drive\\EPR_420\\Code\\Content Classification\\Testing Document Templates\\A) Latin Language PDFs\\A) English PDFs\\Training\\6) Doctor Referal Letters\\296085560-Sample-Referral-Letter.pdf\n",
      "49 G:\\My Drive\\EPR_420\\Code\\Content Classification\\Testing Document Templates\\A) Latin Language PDFs\\A) English PDFs\\Training\\6) Doctor Referal Letters\\3 PatientReferralForm.pdf\n",
      "50 G:\\My Drive\\EPR_420\\Code\\Content Classification\\Testing Document Templates\\A) Latin Language PDFs\\A) English PDFs\\Training\\6) Doctor Referal Letters\\5 OSUWexner PhysicianReferralForm.pdf\n",
      "51 G:\\My Drive\\EPR_420\\Code\\Content Classification\\Testing Document Templates\\A) Latin Language PDFs\\A) English PDFs\\Training\\6) Doctor Referal Letters\\7 4_TK2_T1-Medical_Care_Referral_Form.pdf\n",
      "52 G:\\My Drive\\EPR_420\\Code\\Content Classification\\Testing Document Templates\\A) Latin Language PDFs\\A) English PDFs\\Training\\6) Doctor Referal Letters\\9 dentist-to-physician-referral-form.pdf\n",
      "53 G:\\My Drive\\EPR_420\\Code\\Content Classification\\Testing Document Templates\\A) Latin Language PDFs\\A) English PDFs\\Training\\6) Doctor Referal Letters\\main_referral-letter-template.pdf\n",
      "54 G:\\My Drive\\EPR_420\\Code\\Content Classification\\Testing Document Templates\\A) Latin Language PDFs\\A) English PDFs\\Training\\6) Doctor Referal Letters\\medical_referral_letter_zqclj.pdf\n",
      "55 G:\\My Drive\\EPR_420\\Code\\Content Classification\\Testing Document Templates\\A) Latin Language PDFs\\A) English PDFs\\Training\\6) Doctor Referal Letters\\referral-letter-template-10.05.21 (1).pdf\n",
      "56 G:\\My Drive\\EPR_420\\Code\\Content Classification\\Testing Document Templates\\A) Latin Language PDFs\\A) English PDFs\\Training\\6) Doctor Referal Letters\\referral-letter-template-10.05.21.pdf\n",
      "57 G:\\My Drive\\EPR_420\\Code\\Content Classification\\Testing Document Templates\\A) Latin Language PDFs\\A) English PDFs\\Training\\6) Doctor Referal Letters\\sample-referral-letter-2.pdf\n",
      "58 G:\\My Drive\\EPR_420\\Code\\Content Classification\\Testing Document Templates\\A) Latin Language PDFs\\A) English PDFs\\Training\\5) Dietary Menu\\05.13.19-attachment 3 lp58145 dmh menu cards x7 (180113)-2.pdf\n",
      "59 G:\\My Drive\\EPR_420\\Code\\Content Classification\\Testing Document Templates\\A) Latin Language PDFs\\A) English PDFs\\Training\\5) Dietary Menu\\6SatWeek1.pdf\n",
      "60 G:\\My Drive\\EPR_420\\Code\\Content Classification\\Testing Document Templates\\A) Latin Language PDFs\\A) English PDFs\\Training\\5) Dietary Menu\\Adult-Hospital-Menu.pdf\n",
      "61 G:\\My Drive\\EPR_420\\Code\\Content Classification\\Testing Document Templates\\A) Latin Language PDFs\\A) English PDFs\\Training\\5) Dietary Menu\\CHEF_Menu-2.pdf\n",
      "62 G:\\My Drive\\EPR_420\\Code\\Content Classification\\Testing Document Templates\\A) Latin Language PDFs\\A) English PDFs\\Training\\5) Dietary Menu\\main menu PROOF-3.pdf\n",
      "63 G:\\My Drive\\EPR_420\\Code\\Content Classification\\Testing Document Templates\\A) Latin Language PDFs\\A) English PDFs\\Training\\5) Dietary Menu\\Patient-Menu-11X17-regular(1)-2.pdf\n"
     ]
    },
    {
     "ename": "KeyboardInterrupt",
     "evalue": "",
     "output_type": "error",
     "traceback": [
      "\u001b[1;31m---------------------------------------------------------------------------\u001b[0m",
      "\u001b[1;31mKeyboardInterrupt\u001b[0m                         Traceback (most recent call last)",
      "Cell \u001b[1;32mIn[1], line 11\u001b[0m\n\u001b[0;32m      9\u001b[0m tf_idf \u001b[39m=\u001b[39m TF_IDF(path, languageDictionaryPath)\n\u001b[0;32m     10\u001b[0m \u001b[39mprint\u001b[39m(tf_idf\u001b[39m.\u001b[39mGet_y_label())\n\u001b[1;32m---> 11\u001b[0m tf_idf\u001b[39m.\u001b[39;49mGetVocabList()\n\u001b[0;32m     12\u001b[0m tf_idf\u001b[39m.\u001b[39mCalculateTermFreqTable()\n\u001b[0;32m     13\u001b[0m tf_idf\u001b[39m.\u001b[39mCalculate_TF_IDF_Train()\n",
      "File \u001b[1;32mg:\\My Drive\\EPR_420\\Code\\Content Classification\\PDF_Text_Extraction\\TF_IDF.py:58\u001b[0m, in \u001b[0;36mTF_IDF.GetVocabList\u001b[1;34m(self)\u001b[0m\n\u001b[0;32m     56\u001b[0m pathname \u001b[39m=\u001b[39m \u001b[39mself\u001b[39m\u001b[39m.\u001b[39mdocumentPathsList[i]\n\u001b[0;32m     57\u001b[0m \u001b[39mprint\u001b[39m(i, pathname)\n\u001b[1;32m---> 58\u001b[0m textlist \u001b[39m=\u001b[39m Get_Text_from_PDF(pathname)\n\u001b[0;32m     60\u001b[0m \u001b[39m# For Dictionary:\u001b[39;00m\n\u001b[0;32m     61\u001b[0m textSet \u001b[39m=\u001b[39m \u001b[39mset\u001b[39m(textlist)\n",
      "File \u001b[1;32mg:\\My Drive\\EPR_420\\Code\\Content Classification\\PDF_Text_Extraction\\TF_IDF.py:18\u001b[0m, in \u001b[0;36mGet_Text_from_PDF\u001b[1;34m(pathname)\u001b[0m\n\u001b[0;32m     15\u001b[0m \u001b[39m# Getting First page of pdf\u001b[39;00m\n\u001b[0;32m     16\u001b[0m page \u001b[39m=\u001b[39m pdf\u001b[39m.\u001b[39mpages[\u001b[39m0\u001b[39m]\n\u001b[1;32m---> 18\u001b[0m text \u001b[39m=\u001b[39m page\u001b[39m.\u001b[39;49mextract_text()\n\u001b[0;32m     19\u001b[0m pdf\u001b[39m.\u001b[39mclose()\n\u001b[0;32m     21\u001b[0m text \u001b[39m=\u001b[39m re\u001b[39m.\u001b[39msub(\u001b[39mr\u001b[39m\u001b[39m'\u001b[39m\u001b[39m[/]\u001b[39m\u001b[39m'\u001b[39m, \u001b[39m'\u001b[39m\u001b[39m \u001b[39m\u001b[39m'\u001b[39m, text) \u001b[39m# Replace all '/' with spaces \u001b[39;00m\n",
      "File \u001b[1;32mc:\\Users\\ashis\\AppData\\Local\\Programs\\Python\\Python311\\Lib\\site-packages\\pdfplumber\\page.py:405\u001b[0m, in \u001b[0;36mPage.extract_text\u001b[1;34m(self, **kwargs)\u001b[0m\n\u001b[0;32m    404\u001b[0m \u001b[39mdef\u001b[39;00m \u001b[39mextract_text\u001b[39m(\u001b[39mself\u001b[39m, \u001b[39m*\u001b[39m\u001b[39m*\u001b[39mkwargs: Any) \u001b[39m-\u001b[39m\u001b[39m>\u001b[39m \u001b[39mstr\u001b[39m:\n\u001b[1;32m--> 405\u001b[0m     \u001b[39mreturn\u001b[39;00m \u001b[39mself\u001b[39;49m\u001b[39m.\u001b[39;49mget_textmap(\u001b[39m*\u001b[39;49m\u001b[39m*\u001b[39;49mkwargs)\u001b[39m.\u001b[39mas_string\n",
      "File \u001b[1;32mc:\\Users\\ashis\\AppData\\Local\\Programs\\Python\\Python311\\Lib\\site-packages\\pdfplumber\\page.py:382\u001b[0m, in \u001b[0;36mPage._get_textmap\u001b[1;34m(self, **kwargs)\u001b[0m\n\u001b[0;32m    380\u001b[0m     defaults\u001b[39m.\u001b[39mupdate({\u001b[39m\"\u001b[39m\u001b[39mlayout_height\u001b[39m\u001b[39m\"\u001b[39m: \u001b[39mself\u001b[39m\u001b[39m.\u001b[39mheight})\n\u001b[0;32m    381\u001b[0m full_kwargs: Dict[\u001b[39mstr\u001b[39m, Any] \u001b[39m=\u001b[39m {\u001b[39m*\u001b[39m\u001b[39m*\u001b[39mdefaults, \u001b[39m*\u001b[39m\u001b[39m*\u001b[39mkwargs}\n\u001b[1;32m--> 382\u001b[0m \u001b[39mreturn\u001b[39;00m utils\u001b[39m.\u001b[39mchars_to_textmap(\u001b[39mself\u001b[39;49m\u001b[39m.\u001b[39;49mchars, \u001b[39m*\u001b[39m\u001b[39m*\u001b[39mfull_kwargs)\n",
      "File \u001b[1;32mc:\\Users\\ashis\\AppData\\Local\\Programs\\Python\\Python311\\Lib\\site-packages\\pdfplumber\\container.py:50\u001b[0m, in \u001b[0;36mContainer.chars\u001b[1;34m(self)\u001b[0m\n\u001b[0;32m     48\u001b[0m \u001b[39m@property\u001b[39m\n\u001b[0;32m     49\u001b[0m \u001b[39mdef\u001b[39;00m \u001b[39mchars\u001b[39m(\u001b[39mself\u001b[39m) \u001b[39m-\u001b[39m\u001b[39m>\u001b[39m T_obj_list:\n\u001b[1;32m---> 50\u001b[0m     \u001b[39mreturn\u001b[39;00m \u001b[39mself\u001b[39;49m\u001b[39m.\u001b[39;49mobjects\u001b[39m.\u001b[39mget(\u001b[39m\"\u001b[39m\u001b[39mchar\u001b[39m\u001b[39m\"\u001b[39m, [])\n",
      "File \u001b[1;32mc:\\Users\\ashis\\AppData\\Local\\Programs\\Python\\Python311\\Lib\\site-packages\\pdfplumber\\page.py:237\u001b[0m, in \u001b[0;36mPage.objects\u001b[1;34m(self)\u001b[0m\n\u001b[0;32m    235\u001b[0m \u001b[39mif\u001b[39;00m \u001b[39mhasattr\u001b[39m(\u001b[39mself\u001b[39m, \u001b[39m\"\u001b[39m\u001b[39m_objects\u001b[39m\u001b[39m\"\u001b[39m):\n\u001b[0;32m    236\u001b[0m     \u001b[39mreturn\u001b[39;00m \u001b[39mself\u001b[39m\u001b[39m.\u001b[39m_objects\n\u001b[1;32m--> 237\u001b[0m \u001b[39mself\u001b[39m\u001b[39m.\u001b[39m_objects: Dict[\u001b[39mstr\u001b[39m, T_obj_list] \u001b[39m=\u001b[39m \u001b[39mself\u001b[39;49m\u001b[39m.\u001b[39;49mparse_objects()\n\u001b[0;32m    238\u001b[0m \u001b[39mreturn\u001b[39;00m \u001b[39mself\u001b[39m\u001b[39m.\u001b[39m_objects\n",
      "File \u001b[1;32mc:\\Users\\ashis\\AppData\\Local\\Programs\\Python\\Python311\\Lib\\site-packages\\pdfplumber\\page.py:320\u001b[0m, in \u001b[0;36mPage.parse_objects\u001b[1;34m(self)\u001b[0m\n\u001b[0;32m    318\u001b[0m \u001b[39mdef\u001b[39;00m \u001b[39mparse_objects\u001b[39m(\u001b[39mself\u001b[39m) \u001b[39m-\u001b[39m\u001b[39m>\u001b[39m Dict[\u001b[39mstr\u001b[39m, T_obj_list]:\n\u001b[0;32m    319\u001b[0m     objects: Dict[\u001b[39mstr\u001b[39m, T_obj_list] \u001b[39m=\u001b[39m {}\n\u001b[1;32m--> 320\u001b[0m     \u001b[39mfor\u001b[39;00m obj \u001b[39min\u001b[39;00m \u001b[39mself\u001b[39m\u001b[39m.\u001b[39miter_layout_objects(\u001b[39mself\u001b[39m\u001b[39m.\u001b[39mlayout\u001b[39m.\u001b[39m_objs):\n\u001b[0;32m    321\u001b[0m         kind \u001b[39m=\u001b[39m obj[\u001b[39m\"\u001b[39m\u001b[39mobject_type\u001b[39m\u001b[39m\"\u001b[39m]\n\u001b[0;32m    322\u001b[0m         \u001b[39mif\u001b[39;00m kind \u001b[39min\u001b[39;00m [\u001b[39m\"\u001b[39m\u001b[39manno\u001b[39m\u001b[39m\"\u001b[39m]:\n",
      "File \u001b[1;32mc:\\Users\\ashis\\AppData\\Local\\Programs\\Python\\Python311\\Lib\\site-packages\\pdfplumber\\page.py:316\u001b[0m, in \u001b[0;36mPage.iter_layout_objects\u001b[1;34m(self, layout_objects)\u001b[0m\n\u001b[0;32m    314\u001b[0m     \u001b[39myield from\u001b[39;00m \u001b[39mself\u001b[39m\u001b[39m.\u001b[39miter_layout_objects(obj\u001b[39m.\u001b[39m_objs)\n\u001b[0;32m    315\u001b[0m \u001b[39melse\u001b[39;00m:\n\u001b[1;32m--> 316\u001b[0m     \u001b[39myield\u001b[39;00m \u001b[39mself\u001b[39;49m\u001b[39m.\u001b[39;49mprocess_object(obj)\n",
      "File \u001b[1;32mc:\\Users\\ashis\\AppData\\Local\\Programs\\Python\\Python311\\Lib\\site-packages\\pdfplumber\\page.py:254\u001b[0m, in \u001b[0;36mPage.process_object\u001b[1;34m(self, obj)\u001b[0m\n\u001b[0;32m    251\u001b[0m     \u001b[39melse\u001b[39;00m:\n\u001b[0;32m    252\u001b[0m         \u001b[39mreturn\u001b[39;00m \u001b[39mNone\u001b[39;00m\n\u001b[1;32m--> 254\u001b[0m attr \u001b[39m=\u001b[39m \u001b[39mdict\u001b[39m(\u001b[39mfilter\u001b[39m(\u001b[39mNone\u001b[39;00m, \u001b[39mmap\u001b[39m(process_attr, obj\u001b[39m.\u001b[39m\u001b[39m__dict__\u001b[39m\u001b[39m.\u001b[39mitems())))\n\u001b[0;32m    256\u001b[0m attr[\u001b[39m\"\u001b[39m\u001b[39mobject_type\u001b[39m\u001b[39m\"\u001b[39m] \u001b[39m=\u001b[39m kind\n\u001b[0;32m    257\u001b[0m attr[\u001b[39m\"\u001b[39m\u001b[39mpage_number\u001b[39m\u001b[39m\"\u001b[39m] \u001b[39m=\u001b[39m \u001b[39mself\u001b[39m\u001b[39m.\u001b[39mpage_number\n",
      "File \u001b[1;32mc:\\Users\\ashis\\AppData\\Local\\Programs\\Python\\Python311\\Lib\\site-packages\\pdfplumber\\page.py:249\u001b[0m, in \u001b[0;36mPage.process_object.<locals>.process_attr\u001b[1;34m(item)\u001b[0m\n\u001b[0;32m    247\u001b[0m k, v \u001b[39m=\u001b[39m item\n\u001b[0;32m    248\u001b[0m \u001b[39mif\u001b[39;00m k \u001b[39min\u001b[39;00m ALL_ATTRS:\n\u001b[1;32m--> 249\u001b[0m     res \u001b[39m=\u001b[39m resolve_all(v)\n\u001b[0;32m    250\u001b[0m     \u001b[39mreturn\u001b[39;00m (k, res)\n\u001b[0;32m    251\u001b[0m \u001b[39melse\u001b[39;00m:\n",
      "File \u001b[1;32mc:\\Users\\ashis\\AppData\\Local\\Programs\\Python\\Python311\\Lib\\site-packages\\pdfplumber\\utils\\pdfinternals.py:61\u001b[0m, in \u001b[0;36mresolve_all\u001b[1;34m(x)\u001b[0m\n\u001b[0;32m     57\u001b[0m     \u001b[39melse\u001b[39;00m:\n\u001b[0;32m     58\u001b[0m         \u001b[39mreturn\u001b[39;00m t\n\u001b[1;32m---> 61\u001b[0m \u001b[39mdef\u001b[39;00m \u001b[39mresolve_all\u001b[39m(x: Any) \u001b[39m-\u001b[39m\u001b[39m>\u001b[39m Any:\n\u001b[0;32m     62\u001b[0m \u001b[39m    \u001b[39m\u001b[39m\"\"\"\u001b[39;00m\n\u001b[0;32m     63\u001b[0m \u001b[39m    Recursively resolves the given object and all the internals.\u001b[39;00m\n\u001b[0;32m     64\u001b[0m \u001b[39m    \"\"\"\u001b[39;00m\n\u001b[0;32m     65\u001b[0m     \u001b[39mif\u001b[39;00m \u001b[39misinstance\u001b[39m(x, PDFObjRef):\n",
      "\u001b[1;31mKeyboardInterrupt\u001b[0m: "
     ]
    }
   ],
   "source": [
    "from TF_IDF import TF_IDF\n",
    "import numpy as np\n",
    "\n",
    "\n",
    "path = r\"G:\\My Drive\\EPR_420\\Code\\Content Classification\\Testing Document Templates\\A) Latin Language PDFs\\A) English PDFs\\Training\"\n",
    "languageDictionaryPath = r\"G:\\My Drive\\EPR_420\\Code\\main\\dictionaries\\english_words_dictionary.json\"\n",
    "\n",
    "# y_label generated within constructor \n",
    "tf_idf = TF_IDF(path, languageDictionaryPath)\n",
    "print(tf_idf.Get_y_label())\n",
    "tf_idf.GetVocabList()\n",
    "tf_idf.CalculateTermFreqTable()\n",
    "tf_idf.Calculate_TF_IDF_Train()\n",
    "\n",
    "\n"
   ]
  },
  {
   "cell_type": "code",
   "execution_count": 2,
   "metadata": {},
   "outputs": [
    {
     "name": "stdout",
     "output_type": "stream",
     "text": [
      "69\n"
     ]
    }
   ],
   "source": [
    "print(len(y_train))"
   ]
  },
  {
   "cell_type": "code",
   "execution_count": 129,
   "metadata": {},
   "outputs": [
    {
     "name": "stdout",
     "output_type": "stream",
     "text": [
      "distances [0.12815232 0.16358768 0.12790386 0.12583451 0.13571796 0.12498302\n",
      " 0.15025775 0.16493739 0.1454287  0.15412683 0.12629999 0.12874108\n",
      " 0.14161047 0.13174807 0.13068656 0.12876021 0.13416915 0.17365732\n",
      " 0.1492169  0.17897727 0.15958479 0.19226899 0.15111005 0.15810559\n",
      " 0.1823207  0.18863465 0.18395306 0.12864782 0.12441588 0.12656298\n",
      " 0.13331617 0.13097713 0.14825571 0.12627693 0.14719287 0.12718894\n",
      " 0.18856543 0.14329508 0.25142523 0.21994181 0.1348505  0.13616458\n",
      " 0.17034247 0.13461669 0.15761268 0.16875752 0.25321215 0.15793874\n",
      " 0.15164936 0.13676774 0.14226482 0.46353537 0.13748478 0.16720964\n",
      " 0.14171615 0.15261742 0.17167357 0.15125408 0.13479189 0.13956496\n",
      " 0.13609334 0.16069349 0.17734261 0.17104286 0.0343269  0.12617733\n",
      " 0.12617733 0.16170992]\n",
      "len(distances) 68\n",
      "k_labels [6 3 1 1 6 6 3 1]\n"
     ]
    }
   ],
   "source": [
    "from KNN import KNN\n",
    "\n",
    "testFilePath = r\"G:\\My Drive\\EPR_420\\Code\\Content Classification\\Testing Document Templates\\A) Latin Language PDFs\\A) English PDFs\\Testing\\6) Doctor Referal Letters\\bridges-forms-referral-letter.pdf\"\n",
    "tf_idf_train = tf_idf.Get_TF_IDF_Train()\n",
    "tf_idf_test = tf_idf.Get_TF_IDF_Test(testFilePath)\n",
    "\n",
    "\n",
    "knn = KNN(8)\n",
    "knn.fit(tf_idf_train, y_train)\n",
    "\n",
    "knn._predict(tf_idf_test)\n"
   ]
  },
  {
   "cell_type": "code",
   "execution_count": 130,
   "metadata": {},
   "outputs": [
    {
     "name": "stdout",
     "output_type": "stream",
     "text": [
      "['nurse', 'company', 'name', 'nurse', 'invoice', 'address', 'line', 'address', 'line', 'websitecompanycom', 'city', 'state', 'zip', 'youremailcom', 'bill', 'to', 'invoice', 'payment', 'terms', 'amount', 'due', 'patient', 'name', 'eg', 'eg', 'net', 'address', 'line', 'address', 'line', 'invoice', 'date', 'due', 'date', 'city', 'state', 'zip', 'description', 'hours', 'rate', 'hr', 'amount', 'wound', 'dressing', 'infusion', 'therapy', 'eg', 'cash', 'check', 'paypal', 'payment', 'methods', 'subtotal', 'tax', 'eg', 'wwwsamplepaymentlinkcom', 'payment', 'links', 'misc', 'notes', 'amount', 'due', 'brought', 'to', 'you', 'for', 'free', 'by', 'opendocscom']\n"
     ]
    }
   ],
   "source": [
    "from TF_IDF import Get_Text_from_PDF\n",
    "\n",
    "textlist = Get_Text_from_PDF(r\"G:\\My Drive\\EPR_420\\Code\\Content Classification\\Testing Document Templates\\A) Latin Language PDFs\\A) English PDFs\\Training\\2) Hospital Bills and Invoices\\Nurse-Invoice.pdf\")\n",
    "print(textlist)"
   ]
  },
  {
   "cell_type": "code",
   "execution_count": null,
   "metadata": {},
   "outputs": [],
   "source": []
  }
 ],
 "metadata": {
  "kernelspec": {
   "display_name": "Python 3",
   "language": "python",
   "name": "python3"
  },
  "language_info": {
   "codemirror_mode": {
    "name": "ipython",
    "version": 3
   },
   "file_extension": ".py",
   "mimetype": "text/x-python",
   "name": "python",
   "nbconvert_exporter": "python",
   "pygments_lexer": "ipython3",
   "version": "3.11.0"
  },
  "orig_nbformat": 4
 },
 "nbformat": 4,
 "nbformat_minor": 2
}
