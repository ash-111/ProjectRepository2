{
 "cells": [
  {
   "cell_type": "code",
   "execution_count": 2,
   "metadata": {},
   "outputs": [],
   "source": [
    "import pandas as pd\n",
    "import json\n",
    "\n",
    "# df = pd.read_csv('sentences.csv')\n",
    "# df#.head()"
   ]
  },
  {
   "cell_type": "markdown",
   "metadata": {},
   "source": [
    "Russian Words"
   ]
  },
  {
   "cell_type": "code",
   "execution_count": 3,
   "metadata": {},
   "outputs": [
    {
     "name": "stdout",
     "output_type": "stream",
     "text": [
      "False\n"
     ]
    }
   ],
   "source": [
    "df = pd.read_csv('russianWords_google_Crawl.csv', delimiter=\"\\t\", header=None)\n",
    "df[[0]], df[[1]] = df[[1]], df[[0]]\n",
    "df = df.set_index(0)\n",
    "\n",
    "dict = df.squeeze().to_dict()\n",
    "save_file = open(\"russian_words_dictionary.json\", \"w\")  \n",
    "json.dump(dict, save_file, indent=4)  \n",
    "save_file.close()  \n",
    "\n",
    "with open('.\\\\russian_words_dictionary.json') as json_file:\n",
    "    russianDictionary = json.load(json_file)\n",
    "\n",
    "if \"tahun\" in russianDictionary:\n",
    "    print(True)\n",
    "else:\n",
    "    print(False)"
   ]
  },
  {
   "cell_type": "markdown",
   "metadata": {},
   "source": [
    "Spanish Words"
   ]
  },
  {
   "cell_type": "code",
   "execution_count": 2,
   "metadata": {},
   "outputs": [
    {
     "name": "stdout",
     "output_type": "stream",
     "text": [
      "False\n"
     ]
    }
   ],
   "source": [
    "df = pd.read_csv('SpanishWords_google_Crawl.csv', delimiter=\"\\t\", header=None)\n",
    "df[[0]], df[[1]] = df[[1]], df[[0]]\n",
    "df = df.set_index(0)\n",
    "\n",
    "dict = df.squeeze().to_dict()\n",
    "save_file = open(\"spanish_words_dictionary.json\", \"w\")  \n",
    "json.dump(dict, save_file, indent=4)  \n",
    "save_file.close()  \n",
    "\n",
    "with open('.\\\\spanish_words_dictionary.json') as json_file:\n",
    "    spanishDictionary = json.load(json_file)\n",
    "\n",
    "if \"tahun\" in spanishDictionary:\n",
    "    print(True)\n",
    "else:\n",
    "    print(False)"
   ]
  },
  {
   "cell_type": "markdown",
   "metadata": {},
   "source": [
    "Ukrainian Dictionary"
   ]
  },
  {
   "cell_type": "code",
   "execution_count": 3,
   "metadata": {},
   "outputs": [
    {
     "name": "stdout",
     "output_type": "stream",
     "text": [
      "False\n"
     ]
    }
   ],
   "source": [
    "df = pd.read_csv('ukranianWords_google_Crawl.csv', delimiter=\"\\t\", header=None)\n",
    "df[[0]], df[[1]] = df[[1]], df[[0]]\n",
    "df = df.set_index(0)\n",
    "\n",
    "dict = df.squeeze().to_dict()\n",
    "save_file = open(\"ukranian_words_dictionary.json\", \"w\")  \n",
    "json.dump(dict, save_file, indent=4)  \n",
    "save_file.close()  \n",
    "\n",
    "with open('.\\\\ukranian_words_dictionary.json') as json_file:\n",
    "    ukranianDictionary = json.load(json_file)\n",
    "\n",
    "if \"tahun\" in ukranianDictionary:\n",
    "    print(True)\n",
    "else:\n",
    "    print(False)"
   ]
  },
  {
   "cell_type": "code",
   "execution_count": 5,
   "metadata": {},
   "outputs": [
    {
     "name": "stdout",
     "output_type": "stream",
     "text": [
      "False\n"
     ]
    }
   ],
   "source": [
    "# df = pd.read_csv('greekWords_google_Crawl.csv', delimiter=\"\\t\", header=None)\n",
    "# df[[0]], df[[1]] = df[[1]], df[[0]]\n",
    "# df = df.set_index(0)\n",
    "\n",
    "# dict = df.squeeze().to_dict()\n",
    "# save_file = open(\"greek_words_dictionary.json\", \"w\")  \n",
    "# json.dump(dict, save_file, indent=4)  \n",
    "# save_file.close()  \n",
    "\n",
    "with open('.\\\\greek_words_dictionary.json') as json_file:\n",
    "    ukranianDictionary = json.load(json_file)\n",
    "\n",
    "if \"tahun\" in ukranianDictionary:\n",
    "    print(True)\n",
    "else:\n",
    "    print(False)"
   ]
  },
  {
   "attachments": {},
   "cell_type": "markdown",
   "metadata": {},
   "source": [
    "English Dictionary"
   ]
  },
  {
   "cell_type": "code",
   "execution_count": 5,
   "metadata": {},
   "outputs": [
    {
     "name": "stdout",
     "output_type": "stream",
     "text": [
      "Type: <class 'dict'>\n",
      "False\n"
     ]
    }
   ],
   "source": [
    "# https://github.com/dwyl/english-words/blob/master/words_dictionary.json\n",
    "\n",
    "\n",
    "# Opening JSON file\n",
    "with open('english_words_dictionary.json') as json_file:\n",
    "    engDictionary = json.load(json_file)\n",
    "    # Print the type of data variable\n",
    "\n",
    "\n",
    "\n",
    "word = \"woah\"\n",
    "if word in engDictionary:\n",
    "    print(word)\n",
    "    print(engDictionary[word])\n",
    "else:\n",
    "    print(False)\n",
    "\n",
    "# print(len(engDictionary))\n",
    " "
   ]
  },
  {
   "attachments": {},
   "cell_type": "markdown",
   "metadata": {},
   "source": [
    "Dutch Dictionary"
   ]
  },
  {
   "cell_type": "code",
   "execution_count": 4,
   "metadata": {},
   "outputs": [
    {
     "name": "stdout",
     "output_type": "stream",
     "text": [
      "False\n"
     ]
    }
   ],
   "source": [
    "df = pd.read_csv('dutchWords_google_Crawl.csv', delimiter=\"\\t\", header=None)\n",
    "df[[0]], df[[1]] = df[[1]], df[[0]]\n",
    "df = df.set_index(0)\n",
    "\n",
    "dict = df.squeeze().to_dict()\n",
    "save_file = open(\"dutch_words_dictionary.json\", \"w\")  \n",
    "json.dump(dict, save_file, indent=4)  \n",
    "save_file.close()  \n",
    "\n",
    "with open('.\\\\dutch_words_dictionary.json') as json_file:\n",
    "    dutchDictionary = json.load(json_file)\n",
    "\n",
    "if \"tahun\" in dutchDictionary:\n",
    "    print(True)\n",
    "else:\n",
    "    print(False)"
   ]
  },
  {
   "cell_type": "markdown",
   "metadata": {},
   "source": [
    "Indonesian Dictionary"
   ]
  },
  {
   "cell_type": "code",
   "execution_count": null,
   "metadata": {},
   "outputs": [
    {
     "name": "stdout",
     "output_type": "stream",
     "text": [
      "True\n"
     ]
    }
   ],
   "source": [
    "# df = pd.read_csv('indonesianWords_google_Crawl.csv', delimiter=\"\\t\", header=None)\n",
    "# df[[0]], df[[1]] = df[[1]], df[[0]]\n",
    "# df = df.set_index(0)\n",
    "\n",
    "# dict = df.squeeze().to_dict()\n",
    "# save_file = open(\"indonesian_words_dictionary.json\", \"w\")  \n",
    "# json.dump(dict, save_file, indent=4)  \n",
    "# save_file.close()  \n",
    "\n",
    "with open('.\\\\indonesian_words_dictionary.json') as json_file:\n",
    "    indoDictionary = json.load(json_file)\n",
    "\n",
    "if \"tahun\" in indoDictionary:\n",
    "    print(True)\n",
    "else:\n",
    "    print(False)"
   ]
  },
  {
   "attachments": {},
   "cell_type": "markdown",
   "metadata": {},
   "source": [
    "Bulgarian Dictionary "
   ]
  },
  {
   "cell_type": "code",
   "execution_count": 4,
   "metadata": {},
   "outputs": [
    {
     "name": "stdout",
     "output_type": "stream",
     "text": [
      "True\n"
     ]
    }
   ],
   "source": [
    "# https://live.european-language-grid.eu/catalogue/lcr/11460/download/\n",
    "# https://github.com/bmutafov/bulgarian-wordlist\n",
    "\n",
    "# https://github.com/bgospodinov/bulgarian_dictionary\n",
    "\n",
    "\n",
    "# df = pd.read_csv('.\\\\words_0.csv', delimiter=\";\", header=None)\n",
    "# df = df.set_index(0)\n",
    "# df = df.iloc[:,0:1]\n",
    "# dict = df.squeeze().to_dict()\n",
    "# save_file = open(\"bulgarian_words_dictionary.json\", \"w\")  \n",
    "# json.dump(dict, save_file, indent=4)  \n",
    "# save_file.close()  \n",
    "\n",
    "with open('.\\\\bulgarian_words_dictionary.json') as json_file:\n",
    "    bulDictionary = json.load(json_file)\n",
    "\n",
    "if \"нова\" in bulDictionary:\n",
    "    print(True)\n",
    "else:\n",
    "    print(False)"
   ]
  },
  {
   "attachments": {},
   "cell_type": "markdown",
   "metadata": {},
   "source": [
    "Bulgarian Google Crawl Corpus"
   ]
  },
  {
   "cell_type": "code",
   "execution_count": 5,
   "metadata": {},
   "outputs": [
    {
     "name": "stdout",
     "output_type": "stream",
     "text": [
      "True\n"
     ]
    }
   ],
   "source": [
    "# https://github.com/google/corpuscrawler\n",
    "\n",
    "# df = pd.read_csv('bulgarianWords_google_Crawl.csv', delimiter=\"\\t\", header=None)\n",
    "# df[[0]], df[[1]] = df[[1]], df[[0]]\n",
    "# df = df.set_index(0)\n",
    "\n",
    "# dict = df.squeeze().to_dict()\n",
    "# save_file = open(\"bulgarian_words_dictionary.json\", \"w\")  \n",
    "# json.dump(dict, save_file, indent=4)  \n",
    "# save_file.close()  \n",
    "\n",
    "with open('.\\\\bulgarian_words_dictionary.json') as json_file:\n",
    "    bulDictionary = json.load(json_file)\n",
    "\n",
    "if \"спретна\" in bulDictionary:\n",
    "    print(True)\n",
    "else:\n",
    "    print(False)"
   ]
  },
  {
   "attachments": {},
   "cell_type": "markdown",
   "metadata": {},
   "source": [
    "Belarusian Dictionary"
   ]
  },
  {
   "cell_type": "code",
   "execution_count": 6,
   "metadata": {},
   "outputs": [
    {
     "name": "stdout",
     "output_type": "stream",
     "text": [
      "False\n"
     ]
    }
   ],
   "source": [
    "# df = pd.read_csv('belarusianWords_google_Crawl.csv', delimiter=\"\\t\", header=None)\n",
    "# df[[0]], df[[1]] = df[[1]], df[[0]]\n",
    "# df = df.set_index(0)\n",
    "\n",
    "# dict = df.squeeze().to_dict()\n",
    "# save_file = open(\"belarusian_words_dictionary.json\", \"w\")  \n",
    "# json.dump(dict, save_file, indent=4)  \n",
    "# save_file.close()  \n",
    "\n",
    "with open('.\\\\belarusian_words_dictionary.json') as json_file:\n",
    "    belDictionary = json.load(json_file)\n",
    "\n",
    "if \"прчи\" in belDictionary:\n",
    "    print(True)\n",
    "else:\n",
    "    print(False)"
   ]
  }
 ],
 "metadata": {
  "kernelspec": {
   "display_name": "Python 3",
   "language": "python",
   "name": "python3"
  },
  "language_info": {
   "codemirror_mode": {
    "name": "ipython",
    "version": 3
   },
   "file_extension": ".py",
   "mimetype": "text/x-python",
   "name": "python",
   "nbconvert_exporter": "python",
   "pygments_lexer": "ipython3",
   "version": "3.11.0"
  },
  "orig_nbformat": 4
 },
 "nbformat": 4,
 "nbformat_minor": 2
}
