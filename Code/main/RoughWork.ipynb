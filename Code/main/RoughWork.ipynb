{
 "cells": [
  {
   "cell_type": "code",
   "execution_count": 1,
   "metadata": {},
   "outputs": [],
   "source": [
    "import numpy as np\n",
    "from PIL import Image\n",
    "import matplotlib.pyplot as plt\n",
    "import os\n",
    "from skimage.io import imread, imshow\n",
    "from skimage.transform import resize\n",
    "from tqdm import tqdm\n",
    "import random\n",
    "import tensorflow as tf\n",
    "import cv2 #<- for interfacing camera and simulating functions\n",
    "from IPython.display import display, clear_output\n",
    "import json\n",
    "\n",
    "from config.definitions import ROOT_DIR\n",
    "from grayscaleconversionlatest import BinarizeImage\n",
    "\n",
    "from imageprocessingLibraries import *"
   ]
  },
  {
   "cell_type": "code",
   "execution_count": 17,
   "metadata": {},
   "outputs": [
    {
     "name": "stdout",
     "output_type": "stream",
     "text": [
      "Before:\n",
      "(4032, 2859, 3)\n",
      "After:\n",
      "(2688, 1906, 3)\n"
     ]
    }
   ],
   "source": [
    "imagePath = \"..\\\\TestImages\\\\english_PatientRegistrationForm_original2.jpg\"\n",
    "\n",
    "imageObj = imread(imagePath)\n",
    "\n",
    "\n",
    "print(\"Before:\")\n",
    "print(imageObj.shape)\n",
    "\n",
    "PILImshow(imageObj, imageObj)\n",
    "# Image.fromarray(imageObj, mode = \"RGB\").save(\"..\\\\TestImages\\\\englishInsuranceform_lowRes.jpg\")\n",
    "\n",
    "\n",
    "factor = 1.5\n",
    "\n",
    "imageObj = resize(imageObj, (imageObj.shape[0]//factor,imageObj.shape[1]//factor), mode='constant', preserve_range = True)\n",
    "imageObj = imageObj.astype('uint8')\n",
    "Image.fromarray(imageObj, mode = \"RGB\").save(\"..\\\\TestImages\\\\englishInsuranceform_lowRes.jpg\")\n",
    "\n",
    "print(\"After:\")\n",
    "print(imageObj.shape)\n",
    "\n",
    "PILImshow(imageObj, imageObj)\n",
    "\n",
    "\n"
   ]
  },
  {
   "cell_type": "code",
   "execution_count": null,
   "metadata": {},
   "outputs": [],
   "source": [
    "\n",
    "\n",
    "testImage = ConvertToGrayScale(imread(imagePath))\n",
    "testImage = BinarizeImage(testImage, 1)"
   ]
  },
  {
   "cell_type": "code",
   "execution_count": null,
   "metadata": {},
   "outputs": [],
   "source": [
    "#Word Segmentation:\n",
    "\n",
    "arr = np.arange(0, 100)\n",
    "arr = arr.reshape(10, -1)\n",
    "print(arr)\n",
    "\n",
    "TopBoundary = 1\n",
    "BottomBoundary = 3\n",
    "LeftBoundary = 1\n",
    "RightBoundary = 3\n",
    "\n",
    "textlineSegment = arr[TopBoundary:BottomBoundary, LeftBoundary:RightBoundary]"
   ]
  },
  {
   "cell_type": "code",
   "execution_count": null,
   "metadata": {},
   "outputs": [],
   "source": [
    "\n",
    "\n",
    "#Gets filenames and puts them in a list\n",
    "ImagesArr = os.listdir(Image_PATH)\n",
    "MasksArr = os.listdir(Masks_PATH)\n",
    "MasksArr = list(MasksArr)\n",
    "print(MasksArr)\n",
    "print(type(MasksArr[0]))\n",
    "\n",
    "\n",
    "if len(MasksArr) != len(ImagesArr):\n",
    "    print(\"folders do not contain same number of masks and images\")\n",
    "\n",
    "X_train = np.zeros((len(MasksArr), IMG_HEIGHT, IMG_WIDTH), dtype= np.uint8)\n",
    "Y_train = np.zeros((len(MasksArr), IMG_HEIGHT, IMG_WIDTH), dtype= np.uint8)\n",
    "\n",
    "print(\"Loading Images...\")\n",
    "i = 0\n",
    "for fileName in tqdm(ImagesArr):\n",
    "  name = fileName.split(\".\")[0] # i.e convert '00000130_Text.ome.tiff' to '00000130'\n",
    "  name = name + \"_\"\n",
    "  image = imread(Image_PATH + \"\\\\\" + fileName)\n",
    "  image = ConvertToGrayScale(image)\n",
    "  mask = imread(Masks_PATH + \"\\\\\" + [l for l in MasksArr if name in l][0])\n",
    "\n",
    "  X_train[i] = resize(image, (IMG_HEIGHT, IMG_WIDTH), mode='constant', preserve_range = True)\n",
    "  Y_train[i] = resize(mask, (IMG_HEIGHT, IMG_WIDTH), mode='constant', preserve_range = True)\n",
    "  i = i + 1\n",
    "\n",
    "\n",
    "\n",
    "Imshow(image, mask)\n",
    "Imshow(X_train[i-1], Y_train[i-1])\n",
    "\n",
    "X_train = X_train/255.0\n",
    "Y_train = Y_train > 127"
   ]
  },
  {
   "cell_type": "code",
   "execution_count": null,
   "metadata": {},
   "outputs": [],
   "source": [
    "# print(X_train)\n",
    "# print(Y_train)\n",
    "# X_train = (X_train*255).astype(np.uint8)\n",
    "# Y_train = (Y_train*255).astype(np.uint8)\n",
    "\n",
    "i = 37\n",
    "Imshow(X_train[i], Y_train[i])\n"
   ]
  },
  {
   "cell_type": "code",
   "execution_count": null,
   "metadata": {},
   "outputs": [],
   "source": [
    "randInt = random.randint(0, len(X_train)-1)\n",
    "# randInt = 2\n",
    "print(randInt)\n",
    "testImage = X_train[randInt]\n",
    "testImage = testImage.reshape((1, IMG_HEIGHT, IMG_WIDTH, IMG_CHANNELS))\n",
    "actualMask = Y_train[randInt]*255\n",
    "predMask = model.predict(testImage)\n",
    "predMask = ((predMask >= 0.7)*255).astype(np.uint8)\n",
    "\n",
    "testImage = testImage.reshape((IMG_HEIGHT, IMG_WIDTH))\n",
    "predMask = predMask.reshape((IMG_HEIGHT, IMG_WIDTH))\n",
    "print(testImage.shape)\n",
    "print(actualMask.shape)\n",
    "\n",
    "Imshow((testImage*255).astype(np.uint8), actualMask)\n",
    "Imshow(actualMask, predMask)\n",
    "# PILImshow(actualMask, predMask)"
   ]
  }
 ],
 "metadata": {
  "kernelspec": {
   "display_name": "Python 3",
   "language": "python",
   "name": "python3"
  },
  "language_info": {
   "codemirror_mode": {
    "name": "ipython",
    "version": 3
   },
   "file_extension": ".py",
   "mimetype": "text/x-python",
   "name": "python",
   "nbconvert_exporter": "python",
   "pygments_lexer": "ipython3",
   "version": "3.11.0"
  },
  "orig_nbformat": 4
 },
 "nbformat": 4,
 "nbformat_minor": 2
}
